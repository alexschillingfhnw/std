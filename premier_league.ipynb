{
 "cells": [
  {
   "cell_type": "code",
   "execution_count": 1,
   "metadata": {},
   "outputs": [],
   "source": [
    "import pandas as pd\n",
    "import numpy as np\n",
    "import matplotlib.pyplot as plt\n",
    "import plotly.express as px\n",
    "from streamlit.components.v1 import html\n",
    "from ipyvizzu import Chart, Data, Config, Style, DisplayTarget"
   ]
  },
  {
   "cell_type": "code",
   "execution_count": 2,
   "metadata": {},
   "outputs": [
    {
     "data": {
      "text/html": [
       "<div>\n",
       "<style scoped>\n",
       "    .dataframe tbody tr th:only-of-type {\n",
       "        vertical-align: middle;\n",
       "    }\n",
       "\n",
       "    .dataframe tbody tr th {\n",
       "        vertical-align: top;\n",
       "    }\n",
       "\n",
       "    .dataframe thead th {\n",
       "        text-align: right;\n",
       "    }\n",
       "</style>\n",
       "<table border=\"1\" class=\"dataframe\">\n",
       "  <thead>\n",
       "    <tr style=\"text-align: right;\">\n",
       "      <th></th>\n",
       "      <th>Season_End_Year</th>\n",
       "      <th>Wk</th>\n",
       "      <th>Date</th>\n",
       "      <th>Home</th>\n",
       "      <th>HomeGoals</th>\n",
       "      <th>AwayGoals</th>\n",
       "      <th>Away</th>\n",
       "      <th>FTR</th>\n",
       "    </tr>\n",
       "  </thead>\n",
       "  <tbody>\n",
       "    <tr>\n",
       "      <th>0</th>\n",
       "      <td>1993</td>\n",
       "      <td>1</td>\n",
       "      <td>1992-08-15</td>\n",
       "      <td>Coventry City</td>\n",
       "      <td>2</td>\n",
       "      <td>1</td>\n",
       "      <td>Middlesbrough</td>\n",
       "      <td>H</td>\n",
       "    </tr>\n",
       "    <tr>\n",
       "      <th>1</th>\n",
       "      <td>1993</td>\n",
       "      <td>1</td>\n",
       "      <td>1992-08-15</td>\n",
       "      <td>Leeds United</td>\n",
       "      <td>2</td>\n",
       "      <td>1</td>\n",
       "      <td>Wimbledon</td>\n",
       "      <td>H</td>\n",
       "    </tr>\n",
       "    <tr>\n",
       "      <th>2</th>\n",
       "      <td>1993</td>\n",
       "      <td>1</td>\n",
       "      <td>1992-08-15</td>\n",
       "      <td>Sheffield Utd</td>\n",
       "      <td>2</td>\n",
       "      <td>1</td>\n",
       "      <td>Manchester Utd</td>\n",
       "      <td>H</td>\n",
       "    </tr>\n",
       "    <tr>\n",
       "      <th>3</th>\n",
       "      <td>1993</td>\n",
       "      <td>1</td>\n",
       "      <td>1992-08-15</td>\n",
       "      <td>Crystal Palace</td>\n",
       "      <td>3</td>\n",
       "      <td>3</td>\n",
       "      <td>Blackburn</td>\n",
       "      <td>D</td>\n",
       "    </tr>\n",
       "    <tr>\n",
       "      <th>4</th>\n",
       "      <td>1993</td>\n",
       "      <td>1</td>\n",
       "      <td>1992-08-15</td>\n",
       "      <td>Arsenal</td>\n",
       "      <td>2</td>\n",
       "      <td>4</td>\n",
       "      <td>Norwich City</td>\n",
       "      <td>A</td>\n",
       "    </tr>\n",
       "    <tr>\n",
       "      <th>...</th>\n",
       "      <td>...</td>\n",
       "      <td>...</td>\n",
       "      <td>...</td>\n",
       "      <td>...</td>\n",
       "      <td>...</td>\n",
       "      <td>...</td>\n",
       "      <td>...</td>\n",
       "      <td>...</td>\n",
       "    </tr>\n",
       "    <tr>\n",
       "      <th>12021</th>\n",
       "      <td>2023</td>\n",
       "      <td>38</td>\n",
       "      <td>2023-05-28</td>\n",
       "      <td>Everton</td>\n",
       "      <td>1</td>\n",
       "      <td>0</td>\n",
       "      <td>Bournemouth</td>\n",
       "      <td>H</td>\n",
       "    </tr>\n",
       "    <tr>\n",
       "      <th>12022</th>\n",
       "      <td>2023</td>\n",
       "      <td>38</td>\n",
       "      <td>2023-05-28</td>\n",
       "      <td>Leicester City</td>\n",
       "      <td>2</td>\n",
       "      <td>1</td>\n",
       "      <td>West Ham</td>\n",
       "      <td>H</td>\n",
       "    </tr>\n",
       "    <tr>\n",
       "      <th>12023</th>\n",
       "      <td>2023</td>\n",
       "      <td>38</td>\n",
       "      <td>2023-05-28</td>\n",
       "      <td>Aston Villa</td>\n",
       "      <td>2</td>\n",
       "      <td>1</td>\n",
       "      <td>Brighton</td>\n",
       "      <td>H</td>\n",
       "    </tr>\n",
       "    <tr>\n",
       "      <th>12024</th>\n",
       "      <td>2023</td>\n",
       "      <td>38</td>\n",
       "      <td>2023-05-28</td>\n",
       "      <td>Leeds United</td>\n",
       "      <td>1</td>\n",
       "      <td>4</td>\n",
       "      <td>Tottenham</td>\n",
       "      <td>A</td>\n",
       "    </tr>\n",
       "    <tr>\n",
       "      <th>12025</th>\n",
       "      <td>2023</td>\n",
       "      <td>38</td>\n",
       "      <td>2023-05-28</td>\n",
       "      <td>Brentford</td>\n",
       "      <td>1</td>\n",
       "      <td>0</td>\n",
       "      <td>Manchester City</td>\n",
       "      <td>H</td>\n",
       "    </tr>\n",
       "  </tbody>\n",
       "</table>\n",
       "<p>12026 rows × 8 columns</p>\n",
       "</div>"
      ],
      "text/plain": [
       "       Season_End_Year  Wk        Date            Home  HomeGoals  AwayGoals   \n",
       "0                 1993   1  1992-08-15   Coventry City          2          1  \\\n",
       "1                 1993   1  1992-08-15    Leeds United          2          1   \n",
       "2                 1993   1  1992-08-15   Sheffield Utd          2          1   \n",
       "3                 1993   1  1992-08-15  Crystal Palace          3          3   \n",
       "4                 1993   1  1992-08-15         Arsenal          2          4   \n",
       "...                ...  ..         ...             ...        ...        ...   \n",
       "12021             2023  38  2023-05-28         Everton          1          0   \n",
       "12022             2023  38  2023-05-28  Leicester City          2          1   \n",
       "12023             2023  38  2023-05-28     Aston Villa          2          1   \n",
       "12024             2023  38  2023-05-28    Leeds United          1          4   \n",
       "12025             2023  38  2023-05-28       Brentford          1          0   \n",
       "\n",
       "                  Away FTR  \n",
       "0        Middlesbrough   H  \n",
       "1            Wimbledon   H  \n",
       "2       Manchester Utd   H  \n",
       "3            Blackburn   D  \n",
       "4         Norwich City   A  \n",
       "...                ...  ..  \n",
       "12021      Bournemouth   H  \n",
       "12022         West Ham   H  \n",
       "12023         Brighton   H  \n",
       "12024        Tottenham   A  \n",
       "12025  Manchester City   H  \n",
       "\n",
       "[12026 rows x 8 columns]"
      ]
     },
     "execution_count": 2,
     "metadata": {},
     "output_type": "execute_result"
    }
   ],
   "source": [
    "df_matches = pd.read_csv('premier-league-matches.csv')\n",
    "df_matches"
   ]
  },
  {
   "attachments": {},
   "cell_type": "markdown",
   "metadata": {},
   "source": [
    "## Liverpool Matches before Klopp"
   ]
  },
  {
   "cell_type": "code",
   "execution_count": 3,
   "metadata": {},
   "outputs": [
    {
     "data": {
      "text/html": [
       "<div>\n",
       "<style scoped>\n",
       "    .dataframe tbody tr th:only-of-type {\n",
       "        vertical-align: middle;\n",
       "    }\n",
       "\n",
       "    .dataframe tbody tr th {\n",
       "        vertical-align: top;\n",
       "    }\n",
       "\n",
       "    .dataframe thead th {\n",
       "        text-align: right;\n",
       "    }\n",
       "</style>\n",
       "<table border=\"1\" class=\"dataframe\">\n",
       "  <thead>\n",
       "    <tr style=\"text-align: right;\">\n",
       "      <th></th>\n",
       "      <th>Season_End_Year</th>\n",
       "      <th>Wk</th>\n",
       "      <th>Date</th>\n",
       "      <th>Home</th>\n",
       "      <th>HomeGoals</th>\n",
       "      <th>AwayGoals</th>\n",
       "      <th>Away</th>\n",
       "      <th>FTR</th>\n",
       "      <th>Liverpool_Result</th>\n",
       "    </tr>\n",
       "  </thead>\n",
       "  <tbody>\n",
       "    <tr>\n",
       "      <th>6714</th>\n",
       "      <td>2010</td>\n",
       "      <td>1</td>\n",
       "      <td>2009-08-16</td>\n",
       "      <td>Tottenham</td>\n",
       "      <td>2</td>\n",
       "      <td>1</td>\n",
       "      <td>Liverpool</td>\n",
       "      <td>H</td>\n",
       "      <td>Loss</td>\n",
       "    </tr>\n",
       "    <tr>\n",
       "      <th>6718</th>\n",
       "      <td>2010</td>\n",
       "      <td>2</td>\n",
       "      <td>2009-08-19</td>\n",
       "      <td>Liverpool</td>\n",
       "      <td>4</td>\n",
       "      <td>0</td>\n",
       "      <td>Stoke City</td>\n",
       "      <td>H</td>\n",
       "      <td>Win</td>\n",
       "    </tr>\n",
       "    <tr>\n",
       "      <th>6731</th>\n",
       "      <td>2010</td>\n",
       "      <td>3</td>\n",
       "      <td>2009-08-24</td>\n",
       "      <td>Liverpool</td>\n",
       "      <td>1</td>\n",
       "      <td>3</td>\n",
       "      <td>Aston Villa</td>\n",
       "      <td>A</td>\n",
       "      <td>Loss</td>\n",
       "    </tr>\n",
       "    <tr>\n",
       "      <th>6737</th>\n",
       "      <td>2010</td>\n",
       "      <td>4</td>\n",
       "      <td>2009-08-29</td>\n",
       "      <td>Bolton</td>\n",
       "      <td>2</td>\n",
       "      <td>3</td>\n",
       "      <td>Liverpool</td>\n",
       "      <td>A</td>\n",
       "      <td>Win</td>\n",
       "    </tr>\n",
       "    <tr>\n",
       "      <th>6748</th>\n",
       "      <td>2010</td>\n",
       "      <td>5</td>\n",
       "      <td>2009-09-12</td>\n",
       "      <td>Liverpool</td>\n",
       "      <td>4</td>\n",
       "      <td>0</td>\n",
       "      <td>Burnley</td>\n",
       "      <td>H</td>\n",
       "      <td>Win</td>\n",
       "    </tr>\n",
       "    <tr>\n",
       "      <th>...</th>\n",
       "      <td>...</td>\n",
       "      <td>...</td>\n",
       "      <td>...</td>\n",
       "      <td>...</td>\n",
       "      <td>...</td>\n",
       "      <td>...</td>\n",
       "      <td>...</td>\n",
       "      <td>...</td>\n",
       "      <td>...</td>\n",
       "    </tr>\n",
       "    <tr>\n",
       "      <th>9022</th>\n",
       "      <td>2016</td>\n",
       "      <td>4</td>\n",
       "      <td>2015-08-29</td>\n",
       "      <td>Liverpool</td>\n",
       "      <td>0</td>\n",
       "      <td>3</td>\n",
       "      <td>West Ham</td>\n",
       "      <td>A</td>\n",
       "      <td>Loss</td>\n",
       "    </tr>\n",
       "    <tr>\n",
       "      <th>9032</th>\n",
       "      <td>2016</td>\n",
       "      <td>5</td>\n",
       "      <td>2015-09-12</td>\n",
       "      <td>Manchester Utd</td>\n",
       "      <td>3</td>\n",
       "      <td>1</td>\n",
       "      <td>Liverpool</td>\n",
       "      <td>H</td>\n",
       "      <td>Loss</td>\n",
       "    </tr>\n",
       "    <tr>\n",
       "      <th>9044</th>\n",
       "      <td>2016</td>\n",
       "      <td>6</td>\n",
       "      <td>2015-09-20</td>\n",
       "      <td>Liverpool</td>\n",
       "      <td>1</td>\n",
       "      <td>1</td>\n",
       "      <td>Norwich City</td>\n",
       "      <td>D</td>\n",
       "      <td>Draw</td>\n",
       "    </tr>\n",
       "    <tr>\n",
       "      <th>9047</th>\n",
       "      <td>2016</td>\n",
       "      <td>7</td>\n",
       "      <td>2015-09-26</td>\n",
       "      <td>Liverpool</td>\n",
       "      <td>3</td>\n",
       "      <td>2</td>\n",
       "      <td>Aston Villa</td>\n",
       "      <td>H</td>\n",
       "      <td>Win</td>\n",
       "    </tr>\n",
       "    <tr>\n",
       "      <th>9063</th>\n",
       "      <td>2016</td>\n",
       "      <td>8</td>\n",
       "      <td>2015-10-04</td>\n",
       "      <td>Everton</td>\n",
       "      <td>1</td>\n",
       "      <td>1</td>\n",
       "      <td>Liverpool</td>\n",
       "      <td>D</td>\n",
       "      <td>Draw</td>\n",
       "    </tr>\n",
       "  </tbody>\n",
       "</table>\n",
       "<p>236 rows × 9 columns</p>\n",
       "</div>"
      ],
      "text/plain": [
       "      Season_End_Year  Wk        Date            Home  HomeGoals  AwayGoals   \n",
       "6714             2010   1  2009-08-16       Tottenham          2          1  \\\n",
       "6718             2010   2  2009-08-19       Liverpool          4          0   \n",
       "6731             2010   3  2009-08-24       Liverpool          1          3   \n",
       "6737             2010   4  2009-08-29          Bolton          2          3   \n",
       "6748             2010   5  2009-09-12       Liverpool          4          0   \n",
       "...               ...  ..         ...             ...        ...        ...   \n",
       "9022             2016   4  2015-08-29       Liverpool          0          3   \n",
       "9032             2016   5  2015-09-12  Manchester Utd          3          1   \n",
       "9044             2016   6  2015-09-20       Liverpool          1          1   \n",
       "9047             2016   7  2015-09-26       Liverpool          3          2   \n",
       "9063             2016   8  2015-10-04         Everton          1          1   \n",
       "\n",
       "              Away FTR Liverpool_Result  \n",
       "6714     Liverpool   H             Loss  \n",
       "6718    Stoke City   H              Win  \n",
       "6731   Aston Villa   A             Loss  \n",
       "6737     Liverpool   A              Win  \n",
       "6748       Burnley   H              Win  \n",
       "...            ...  ..              ...  \n",
       "9022      West Ham   A             Loss  \n",
       "9032     Liverpool   H             Loss  \n",
       "9044  Norwich City   D             Draw  \n",
       "9047   Aston Villa   H              Win  \n",
       "9063     Liverpool   D             Draw  \n",
       "\n",
       "[236 rows x 9 columns]"
      ]
     },
     "execution_count": 3,
     "metadata": {},
     "output_type": "execute_result"
    }
   ],
   "source": [
    "# only get Liverpool matches\n",
    "df_liv_matches = df_matches[(df_matches['Home'] == 'Liverpool') | (df_matches['Away'] == 'Liverpool')]\n",
    "\n",
    "# only get matches from 2009-08 onwards\n",
    "df_liv_matches_before = df_liv_matches[df_liv_matches['Season_End_Year'] >= 2010]\n",
    "\n",
    "# only get matches up to 2015-06-31\n",
    "df_liv_matches_before = df_liv_matches_before[df_liv_matches_before['Date'] <= '2015-10-08']\n",
    "\n",
    "# create a column to indicate whether Liverpool won, lost, or drew the match\n",
    "df_liv_matches_before['Liverpool_Result'] = np.where(df_liv_matches_before['Home'] == 'Liverpool',\n",
    "                                            np.where(df_liv_matches_before['HomeGoals'] > df_liv_matches_before['AwayGoals'], 'Win',\n",
    "                                            np.where(df_liv_matches_before['HomeGoals'] < df_liv_matches_before['AwayGoals'], 'Loss', 'Draw')),\n",
    "                                            np.where(df_liv_matches_before['HomeGoals'] < df_liv_matches_before['AwayGoals'], 'Win',\n",
    "                                            np.where(df_liv_matches_before['HomeGoals'] > df_liv_matches_before['AwayGoals'], 'Loss', 'Draw')))\n",
    "\n",
    "\n",
    "df_liv_matches_before"
   ]
  },
  {
   "attachments": {},
   "cell_type": "markdown",
   "metadata": {},
   "source": [
    "### Rivals"
   ]
  },
  {
   "cell_type": "code",
   "execution_count": 4,
   "metadata": {},
   "outputs": [
    {
     "data": {
      "text/html": [
       "<div>\n",
       "<style scoped>\n",
       "    .dataframe tbody tr th:only-of-type {\n",
       "        vertical-align: middle;\n",
       "    }\n",
       "\n",
       "    .dataframe tbody tr th {\n",
       "        vertical-align: top;\n",
       "    }\n",
       "\n",
       "    .dataframe thead th {\n",
       "        text-align: right;\n",
       "    }\n",
       "</style>\n",
       "<table border=\"1\" class=\"dataframe\">\n",
       "  <thead>\n",
       "    <tr style=\"text-align: right;\">\n",
       "      <th></th>\n",
       "      <th>Season_End_Year</th>\n",
       "      <th>Wk</th>\n",
       "      <th>Date</th>\n",
       "      <th>Home</th>\n",
       "      <th>HomeGoals</th>\n",
       "      <th>AwayGoals</th>\n",
       "      <th>Away</th>\n",
       "      <th>FTR</th>\n",
       "      <th>Liverpool_Result</th>\n",
       "    </tr>\n",
       "  </thead>\n",
       "  <tbody>\n",
       "    <tr>\n",
       "      <th>9015</th>\n",
       "      <td>2016</td>\n",
       "      <td>3</td>\n",
       "      <td>2015-08-24</td>\n",
       "      <td>Arsenal</td>\n",
       "      <td>0</td>\n",
       "      <td>0</td>\n",
       "      <td>Liverpool</td>\n",
       "      <td>D</td>\n",
       "      <td>Draw</td>\n",
       "    </tr>\n",
       "    <tr>\n",
       "      <th>9032</th>\n",
       "      <td>2016</td>\n",
       "      <td>5</td>\n",
       "      <td>2015-09-12</td>\n",
       "      <td>Manchester Utd</td>\n",
       "      <td>3</td>\n",
       "      <td>1</td>\n",
       "      <td>Liverpool</td>\n",
       "      <td>H</td>\n",
       "      <td>Loss</td>\n",
       "    </tr>\n",
       "    <tr>\n",
       "      <th>9063</th>\n",
       "      <td>2016</td>\n",
       "      <td>8</td>\n",
       "      <td>2015-10-04</td>\n",
       "      <td>Everton</td>\n",
       "      <td>1</td>\n",
       "      <td>1</td>\n",
       "      <td>Liverpool</td>\n",
       "      <td>D</td>\n",
       "      <td>Draw</td>\n",
       "    </tr>\n",
       "    <tr>\n",
       "      <th>9066</th>\n",
       "      <td>2016</td>\n",
       "      <td>9</td>\n",
       "      <td>2015-10-17</td>\n",
       "      <td>Tottenham</td>\n",
       "      <td>0</td>\n",
       "      <td>0</td>\n",
       "      <td>Liverpool</td>\n",
       "      <td>D</td>\n",
       "      <td>Draw</td>\n",
       "    </tr>\n",
       "    <tr>\n",
       "      <th>9086</th>\n",
       "      <td>2016</td>\n",
       "      <td>11</td>\n",
       "      <td>2015-10-31</td>\n",
       "      <td>Chelsea</td>\n",
       "      <td>1</td>\n",
       "      <td>3</td>\n",
       "      <td>Liverpool</td>\n",
       "      <td>A</td>\n",
       "      <td>Win</td>\n",
       "    </tr>\n",
       "    <tr>\n",
       "      <th>9113</th>\n",
       "      <td>2016</td>\n",
       "      <td>13</td>\n",
       "      <td>2015-11-21</td>\n",
       "      <td>Manchester City</td>\n",
       "      <td>1</td>\n",
       "      <td>4</td>\n",
       "      <td>Liverpool</td>\n",
       "      <td>A</td>\n",
       "      <td>Win</td>\n",
       "    </tr>\n",
       "    <tr>\n",
       "      <th>9195</th>\n",
       "      <td>2016</td>\n",
       "      <td>21</td>\n",
       "      <td>2016-01-13</td>\n",
       "      <td>Liverpool</td>\n",
       "      <td>3</td>\n",
       "      <td>3</td>\n",
       "      <td>Arsenal</td>\n",
       "      <td>D</td>\n",
       "      <td>Draw</td>\n",
       "    </tr>\n",
       "    <tr>\n",
       "      <th>9203</th>\n",
       "      <td>2016</td>\n",
       "      <td>22</td>\n",
       "      <td>2016-01-17</td>\n",
       "      <td>Liverpool</td>\n",
       "      <td>0</td>\n",
       "      <td>1</td>\n",
       "      <td>Manchester Utd</td>\n",
       "      <td>A</td>\n",
       "      <td>Loss</td>\n",
       "    </tr>\n",
       "    <tr>\n",
       "      <th>9263</th>\n",
       "      <td>2016</td>\n",
       "      <td>28</td>\n",
       "      <td>2016-03-02</td>\n",
       "      <td>Liverpool</td>\n",
       "      <td>3</td>\n",
       "      <td>0</td>\n",
       "      <td>Manchester City</td>\n",
       "      <td>H</td>\n",
       "      <td>Win</td>\n",
       "    </tr>\n",
       "    <tr>\n",
       "      <th>9296</th>\n",
       "      <td>2016</td>\n",
       "      <td>32</td>\n",
       "      <td>2016-04-02</td>\n",
       "      <td>Liverpool</td>\n",
       "      <td>1</td>\n",
       "      <td>1</td>\n",
       "      <td>Tottenham</td>\n",
       "      <td>D</td>\n",
       "      <td>Draw</td>\n",
       "    </tr>\n",
       "    <tr>\n",
       "      <th>9321</th>\n",
       "      <td>2016</td>\n",
       "      <td>27</td>\n",
       "      <td>2016-04-20</td>\n",
       "      <td>Liverpool</td>\n",
       "      <td>4</td>\n",
       "      <td>0</td>\n",
       "      <td>Everton</td>\n",
       "      <td>H</td>\n",
       "      <td>Win</td>\n",
       "    </tr>\n",
       "    <tr>\n",
       "      <th>9354</th>\n",
       "      <td>2016</td>\n",
       "      <td>30</td>\n",
       "      <td>2016-05-11</td>\n",
       "      <td>Liverpool</td>\n",
       "      <td>1</td>\n",
       "      <td>1</td>\n",
       "      <td>Chelsea</td>\n",
       "      <td>D</td>\n",
       "      <td>Draw</td>\n",
       "    </tr>\n",
       "  </tbody>\n",
       "</table>\n",
       "</div>"
      ],
      "text/plain": [
       "      Season_End_Year  Wk        Date             Home  HomeGoals  AwayGoals   \n",
       "9015             2016   3  2015-08-24          Arsenal          0          0  \\\n",
       "9032             2016   5  2015-09-12   Manchester Utd          3          1   \n",
       "9063             2016   8  2015-10-04          Everton          1          1   \n",
       "9066             2016   9  2015-10-17        Tottenham          0          0   \n",
       "9086             2016  11  2015-10-31          Chelsea          1          3   \n",
       "9113             2016  13  2015-11-21  Manchester City          1          4   \n",
       "9195             2016  21  2016-01-13        Liverpool          3          3   \n",
       "9203             2016  22  2016-01-17        Liverpool          0          1   \n",
       "9263             2016  28  2016-03-02        Liverpool          3          0   \n",
       "9296             2016  32  2016-04-02        Liverpool          1          1   \n",
       "9321             2016  27  2016-04-20        Liverpool          4          0   \n",
       "9354             2016  30  2016-05-11        Liverpool          1          1   \n",
       "\n",
       "                 Away FTR Liverpool_Result  \n",
       "9015        Liverpool   D             Draw  \n",
       "9032        Liverpool   H             Loss  \n",
       "9063        Liverpool   D             Draw  \n",
       "9066        Liverpool   D             Draw  \n",
       "9086        Liverpool   A              Win  \n",
       "9113        Liverpool   A              Win  \n",
       "9195          Arsenal   D             Draw  \n",
       "9203   Manchester Utd   A             Loss  \n",
       "9263  Manchester City   H              Win  \n",
       "9296        Tottenham   D             Draw  \n",
       "9321          Everton   H              Win  \n",
       "9354          Chelsea   D             Draw  "
      ]
     },
     "execution_count": 4,
     "metadata": {},
     "output_type": "execute_result"
    }
   ],
   "source": [
    "# rivals: Everton, Manchester United, Chelsea, Manchester City, Arsenal, Tottenham Hotspur\n",
    "rivals = ['Everton', 'Manchester Utd', 'Chelsea', 'Manchester City', 'Arsenal', 'Tottenham']\n",
    "\n",
    "# only get matches from 2009-08 onwards\n",
    "df_liv_rivals = df_liv_matches[df_liv_matches['Season_End_Year'] >= 2010]\n",
    "\n",
    "# filter out matches against rivals\n",
    "df_liv_rivals = df_liv_rivals[(df_liv_rivals['Home'].isin(rivals)) | (df_liv_rivals['Away'].isin(rivals))]\n",
    "\n",
    "# create a column to indicate whether Liverpool won, lost, or drew the match\n",
    "df_liv_rivals['Liverpool_Result'] = np.where(df_liv_rivals['Home'] == 'Liverpool',\n",
    "                                            np.where(df_liv_rivals['HomeGoals'] > df_liv_rivals['AwayGoals'], 'Win',\n",
    "                                            np.where(df_liv_rivals['HomeGoals'] < df_liv_rivals['AwayGoals'], 'Loss', 'Draw')),\n",
    "                                            np.where(df_liv_rivals['HomeGoals'] < df_liv_rivals['AwayGoals'], 'Win',\n",
    "                                            np.where(df_liv_rivals['HomeGoals'] > df_liv_rivals['AwayGoals'], 'Loss', 'Draw')))\n",
    "\n",
    "df_liv_rivals[df_liv_rivals[\"Season_End_Year\"] == 2016]"
   ]
  },
  {
   "cell_type": "code",
   "execution_count": 5,
   "metadata": {},
   "outputs": [
    {
     "data": {
      "text/html": [
       "<div>\n",
       "<style scoped>\n",
       "    .dataframe tbody tr th:only-of-type {\n",
       "        vertical-align: middle;\n",
       "    }\n",
       "\n",
       "    .dataframe tbody tr th {\n",
       "        vertical-align: top;\n",
       "    }\n",
       "\n",
       "    .dataframe thead th {\n",
       "        text-align: right;\n",
       "    }\n",
       "</style>\n",
       "<table border=\"1\" class=\"dataframe\">\n",
       "  <thead>\n",
       "    <tr style=\"text-align: right;\">\n",
       "      <th></th>\n",
       "      <th>Season_End_Year</th>\n",
       "      <th>Liverpool_Result</th>\n",
       "      <th>Count</th>\n",
       "    </tr>\n",
       "  </thead>\n",
       "  <tbody>\n",
       "    <tr>\n",
       "      <th>0</th>\n",
       "      <td>2010</td>\n",
       "      <td>Draw</td>\n",
       "      <td>16.666667</td>\n",
       "    </tr>\n",
       "    <tr>\n",
       "      <th>1</th>\n",
       "      <td>2010</td>\n",
       "      <td>Loss</td>\n",
       "      <td>50.000000</td>\n",
       "    </tr>\n",
       "    <tr>\n",
       "      <th>2</th>\n",
       "      <td>2010</td>\n",
       "      <td>Win</td>\n",
       "      <td>33.333333</td>\n",
       "    </tr>\n",
       "    <tr>\n",
       "      <th>3</th>\n",
       "      <td>2011</td>\n",
       "      <td>Draw</td>\n",
       "      <td>25.000000</td>\n",
       "    </tr>\n",
       "    <tr>\n",
       "      <th>4</th>\n",
       "      <td>2011</td>\n",
       "      <td>Loss</td>\n",
       "      <td>41.666667</td>\n",
       "    </tr>\n",
       "    <tr>\n",
       "      <th>5</th>\n",
       "      <td>2011</td>\n",
       "      <td>Win</td>\n",
       "      <td>33.333333</td>\n",
       "    </tr>\n",
       "    <tr>\n",
       "      <th>6</th>\n",
       "      <td>2012</td>\n",
       "      <td>Draw</td>\n",
       "      <td>25.000000</td>\n",
       "    </tr>\n",
       "    <tr>\n",
       "      <th>7</th>\n",
       "      <td>2012</td>\n",
       "      <td>Loss</td>\n",
       "      <td>33.333333</td>\n",
       "    </tr>\n",
       "    <tr>\n",
       "      <th>8</th>\n",
       "      <td>2012</td>\n",
       "      <td>Win</td>\n",
       "      <td>41.666667</td>\n",
       "    </tr>\n",
       "    <tr>\n",
       "      <th>9</th>\n",
       "      <td>2013</td>\n",
       "      <td>Draw</td>\n",
       "      <td>58.333333</td>\n",
       "    </tr>\n",
       "    <tr>\n",
       "      <th>10</th>\n",
       "      <td>2013</td>\n",
       "      <td>Loss</td>\n",
       "      <td>33.333333</td>\n",
       "    </tr>\n",
       "    <tr>\n",
       "      <th>11</th>\n",
       "      <td>2013</td>\n",
       "      <td>Win</td>\n",
       "      <td>8.333333</td>\n",
       "    </tr>\n",
       "    <tr>\n",
       "      <th>12</th>\n",
       "      <td>2014</td>\n",
       "      <td>Draw</td>\n",
       "      <td>8.333333</td>\n",
       "    </tr>\n",
       "    <tr>\n",
       "      <th>13</th>\n",
       "      <td>2014</td>\n",
       "      <td>Loss</td>\n",
       "      <td>33.333333</td>\n",
       "    </tr>\n",
       "    <tr>\n",
       "      <th>14</th>\n",
       "      <td>2014</td>\n",
       "      <td>Win</td>\n",
       "      <td>58.333333</td>\n",
       "    </tr>\n",
       "    <tr>\n",
       "      <th>15</th>\n",
       "      <td>2015</td>\n",
       "      <td>Draw</td>\n",
       "      <td>33.333333</td>\n",
       "    </tr>\n",
       "    <tr>\n",
       "      <th>16</th>\n",
       "      <td>2015</td>\n",
       "      <td>Loss</td>\n",
       "      <td>41.666667</td>\n",
       "    </tr>\n",
       "    <tr>\n",
       "      <th>17</th>\n",
       "      <td>2015</td>\n",
       "      <td>Win</td>\n",
       "      <td>25.000000</td>\n",
       "    </tr>\n",
       "    <tr>\n",
       "      <th>18</th>\n",
       "      <td>2016</td>\n",
       "      <td>Draw</td>\n",
       "      <td>50.000000</td>\n",
       "    </tr>\n",
       "    <tr>\n",
       "      <th>19</th>\n",
       "      <td>2016</td>\n",
       "      <td>Loss</td>\n",
       "      <td>16.666667</td>\n",
       "    </tr>\n",
       "    <tr>\n",
       "      <th>20</th>\n",
       "      <td>2016</td>\n",
       "      <td>Win</td>\n",
       "      <td>33.333333</td>\n",
       "    </tr>\n",
       "    <tr>\n",
       "      <th>21</th>\n",
       "      <td>2017</td>\n",
       "      <td>Draw</td>\n",
       "      <td>41.666667</td>\n",
       "    </tr>\n",
       "    <tr>\n",
       "      <th>22</th>\n",
       "      <td>2017</td>\n",
       "      <td>Win</td>\n",
       "      <td>58.333333</td>\n",
       "    </tr>\n",
       "    <tr>\n",
       "      <th>23</th>\n",
       "      <td>2018</td>\n",
       "      <td>Draw</td>\n",
       "      <td>50.000000</td>\n",
       "    </tr>\n",
       "    <tr>\n",
       "      <th>24</th>\n",
       "      <td>2018</td>\n",
       "      <td>Loss</td>\n",
       "      <td>33.333333</td>\n",
       "    </tr>\n",
       "    <tr>\n",
       "      <th>25</th>\n",
       "      <td>2018</td>\n",
       "      <td>Win</td>\n",
       "      <td>16.666667</td>\n",
       "    </tr>\n",
       "    <tr>\n",
       "      <th>26</th>\n",
       "      <td>2019</td>\n",
       "      <td>Draw</td>\n",
       "      <td>41.666667</td>\n",
       "    </tr>\n",
       "    <tr>\n",
       "      <th>27</th>\n",
       "      <td>2019</td>\n",
       "      <td>Loss</td>\n",
       "      <td>8.333333</td>\n",
       "    </tr>\n",
       "    <tr>\n",
       "      <th>28</th>\n",
       "      <td>2019</td>\n",
       "      <td>Win</td>\n",
       "      <td>50.000000</td>\n",
       "    </tr>\n",
       "    <tr>\n",
       "      <th>29</th>\n",
       "      <td>2020</td>\n",
       "      <td>Draw</td>\n",
       "      <td>16.666667</td>\n",
       "    </tr>\n",
       "    <tr>\n",
       "      <th>30</th>\n",
       "      <td>2020</td>\n",
       "      <td>Loss</td>\n",
       "      <td>16.666667</td>\n",
       "    </tr>\n",
       "    <tr>\n",
       "      <th>31</th>\n",
       "      <td>2020</td>\n",
       "      <td>Win</td>\n",
       "      <td>66.666667</td>\n",
       "    </tr>\n",
       "    <tr>\n",
       "      <th>32</th>\n",
       "      <td>2021</td>\n",
       "      <td>Draw</td>\n",
       "      <td>25.000000</td>\n",
       "    </tr>\n",
       "    <tr>\n",
       "      <th>33</th>\n",
       "      <td>2021</td>\n",
       "      <td>Loss</td>\n",
       "      <td>25.000000</td>\n",
       "    </tr>\n",
       "    <tr>\n",
       "      <th>34</th>\n",
       "      <td>2021</td>\n",
       "      <td>Win</td>\n",
       "      <td>50.000000</td>\n",
       "    </tr>\n",
       "    <tr>\n",
       "      <th>35</th>\n",
       "      <td>2022</td>\n",
       "      <td>Draw</td>\n",
       "      <td>50.000000</td>\n",
       "    </tr>\n",
       "    <tr>\n",
       "      <th>36</th>\n",
       "      <td>2022</td>\n",
       "      <td>Win</td>\n",
       "      <td>50.000000</td>\n",
       "    </tr>\n",
       "    <tr>\n",
       "      <th>37</th>\n",
       "      <td>2023</td>\n",
       "      <td>Draw</td>\n",
       "      <td>33.333333</td>\n",
       "    </tr>\n",
       "    <tr>\n",
       "      <th>38</th>\n",
       "      <td>2023</td>\n",
       "      <td>Loss</td>\n",
       "      <td>25.000000</td>\n",
       "    </tr>\n",
       "    <tr>\n",
       "      <th>39</th>\n",
       "      <td>2023</td>\n",
       "      <td>Win</td>\n",
       "      <td>41.666667</td>\n",
       "    </tr>\n",
       "  </tbody>\n",
       "</table>\n",
       "</div>"
      ],
      "text/plain": [
       "    Season_End_Year Liverpool_Result      Count\n",
       "0              2010             Draw  16.666667\n",
       "1              2010             Loss  50.000000\n",
       "2              2010              Win  33.333333\n",
       "3              2011             Draw  25.000000\n",
       "4              2011             Loss  41.666667\n",
       "5              2011              Win  33.333333\n",
       "6              2012             Draw  25.000000\n",
       "7              2012             Loss  33.333333\n",
       "8              2012              Win  41.666667\n",
       "9              2013             Draw  58.333333\n",
       "10             2013             Loss  33.333333\n",
       "11             2013              Win   8.333333\n",
       "12             2014             Draw   8.333333\n",
       "13             2014             Loss  33.333333\n",
       "14             2014              Win  58.333333\n",
       "15             2015             Draw  33.333333\n",
       "16             2015             Loss  41.666667\n",
       "17             2015              Win  25.000000\n",
       "18             2016             Draw  50.000000\n",
       "19             2016             Loss  16.666667\n",
       "20             2016              Win  33.333333\n",
       "21             2017             Draw  41.666667\n",
       "22             2017              Win  58.333333\n",
       "23             2018             Draw  50.000000\n",
       "24             2018             Loss  33.333333\n",
       "25             2018              Win  16.666667\n",
       "26             2019             Draw  41.666667\n",
       "27             2019             Loss   8.333333\n",
       "28             2019              Win  50.000000\n",
       "29             2020             Draw  16.666667\n",
       "30             2020             Loss  16.666667\n",
       "31             2020              Win  66.666667\n",
       "32             2021             Draw  25.000000\n",
       "33             2021             Loss  25.000000\n",
       "34             2021              Win  50.000000\n",
       "35             2022             Draw  50.000000\n",
       "36             2022              Win  50.000000\n",
       "37             2023             Draw  33.333333\n",
       "38             2023             Loss  25.000000\n",
       "39             2023              Win  41.666667"
      ]
     },
     "execution_count": 5,
     "metadata": {},
     "output_type": "execute_result"
    }
   ],
   "source": [
    "# group df_liv_matches_before by Season_End_Year and Liverpool_Result Percentage\n",
    "df_liv_rivals = df_liv_rivals.groupby(['Season_End_Year', 'Liverpool_Result']).size().reset_index(name='Count')\n",
    "\n",
    "# Convert Count to Percentage\n",
    "df_liv_rivals['Count'] = df_liv_rivals['Count'] / 12 * 100\n",
    "df_liv_rivals"
   ]
  },
  {
   "cell_type": "code",
   "execution_count": 6,
   "metadata": {},
   "outputs": [],
   "source": [
    "# export df_liv_rivals to csv\n",
    "df_liv_rivals.to_csv('df_liv_rivals.csv', index=False)"
   ]
  },
  {
   "cell_type": "code",
   "execution_count": 7,
   "metadata": {},
   "outputs": [
    {
     "data": {
      "application/vnd.plotly.v1+json": {
       "config": {
        "plotlyServerURL": "https://plot.ly"
       },
       "data": [
        {
         "alignmentgroup": "True",
         "hovertemplate": "Liverpool_Result=Draw<br>Season_End_Year=%{x}<br>Count=%{text}<extra></extra>",
         "legendgroup": "Draw",
         "marker": {
          "color": "grey",
          "pattern": {
           "shape": ""
          }
         },
         "name": "Draw",
         "offsetgroup": "Draw",
         "orientation": "v",
         "showlegend": true,
         "text": [
          16.666666666666664,
          25,
          25,
          58.333333333333336,
          8.333333333333332,
          33.33333333333333,
          50,
          41.66666666666667,
          50,
          41.66666666666667,
          16.666666666666664,
          25,
          50,
          33.33333333333333
         ],
         "textposition": "auto",
         "type": "bar",
         "x": [
          2010,
          2011,
          2012,
          2013,
          2014,
          2015,
          2016,
          2017,
          2018,
          2019,
          2020,
          2021,
          2022,
          2023
         ],
         "xaxis": "x",
         "y": [
          16.666666666666664,
          25,
          25,
          58.333333333333336,
          8.333333333333332,
          33.33333333333333,
          50,
          41.66666666666667,
          50,
          41.66666666666667,
          16.666666666666664,
          25,
          50,
          33.33333333333333
         ],
         "yaxis": "y"
        },
        {
         "alignmentgroup": "True",
         "hovertemplate": "Liverpool_Result=Loss<br>Season_End_Year=%{x}<br>Count=%{text}<extra></extra>",
         "legendgroup": "Loss",
         "marker": {
          "color": "red",
          "pattern": {
           "shape": ""
          }
         },
         "name": "Loss",
         "offsetgroup": "Loss",
         "orientation": "v",
         "showlegend": true,
         "text": [
          50,
          41.66666666666667,
          33.33333333333333,
          33.33333333333333,
          33.33333333333333,
          41.66666666666667,
          16.666666666666664,
          33.33333333333333,
          8.333333333333332,
          16.666666666666664,
          25,
          25
         ],
         "textposition": "auto",
         "type": "bar",
         "x": [
          2010,
          2011,
          2012,
          2013,
          2014,
          2015,
          2016,
          2018,
          2019,
          2020,
          2021,
          2023
         ],
         "xaxis": "x",
         "y": [
          50,
          41.66666666666667,
          33.33333333333333,
          33.33333333333333,
          33.33333333333333,
          41.66666666666667,
          16.666666666666664,
          33.33333333333333,
          8.333333333333332,
          16.666666666666664,
          25,
          25
         ],
         "yaxis": "y"
        },
        {
         "alignmentgroup": "True",
         "hovertemplate": "Liverpool_Result=Win<br>Season_End_Year=%{x}<br>Count=%{text}<extra></extra>",
         "legendgroup": "Win",
         "marker": {
          "color": "green",
          "pattern": {
           "shape": ""
          }
         },
         "name": "Win",
         "offsetgroup": "Win",
         "orientation": "v",
         "showlegend": true,
         "text": [
          33.33333333333333,
          33.33333333333333,
          41.66666666666667,
          8.333333333333332,
          58.333333333333336,
          25,
          33.33333333333333,
          58.333333333333336,
          16.666666666666664,
          50,
          66.66666666666666,
          50,
          50,
          41.66666666666667
         ],
         "textposition": "auto",
         "type": "bar",
         "x": [
          2010,
          2011,
          2012,
          2013,
          2014,
          2015,
          2016,
          2017,
          2018,
          2019,
          2020,
          2021,
          2022,
          2023
         ],
         "xaxis": "x",
         "y": [
          33.33333333333333,
          33.33333333333333,
          41.66666666666667,
          8.333333333333332,
          58.333333333333336,
          25,
          33.33333333333333,
          58.333333333333336,
          16.666666666666664,
          50,
          66.66666666666666,
          50,
          50,
          41.66666666666667
         ],
         "yaxis": "y"
        }
       ],
       "layout": {
        "annotations": [
         {
          "showarrow": false,
          "text": "Source: kaggle.com | Premier League Matches 1993-2023",
          "x": 0.5,
          "xref": "paper",
          "y": -0.25,
          "yref": "paper"
         }
        ],
        "barmode": "group",
        "legend": {
         "title": {
          "text": ""
         },
         "tracegroupgap": 0
        },
        "margin": {
         "t": 60
        },
        "template": {
         "data": {
          "candlestick": [
           {
            "decreasing": {
             "line": {
              "color": "#000033"
             }
            },
            "increasing": {
             "line": {
              "color": "#000032"
             }
            },
            "type": "candlestick"
           }
          ],
          "contour": [
           {
            "colorscale": [
             [
              0,
              "#000011"
             ],
             [
              0.1111111111111111,
              "#000012"
             ],
             [
              0.2222222222222222,
              "#000013"
             ],
             [
              0.3333333333333333,
              "#000014"
             ],
             [
              0.4444444444444444,
              "#000015"
             ],
             [
              0.5555555555555556,
              "#000016"
             ],
             [
              0.6666666666666666,
              "#000017"
             ],
             [
              0.7777777777777778,
              "#000018"
             ],
             [
              0.8888888888888888,
              "#000019"
             ],
             [
              1,
              "#000020"
             ]
            ],
            "type": "contour"
           }
          ],
          "contourcarpet": [
           {
            "colorscale": [
             [
              0,
              "#000011"
             ],
             [
              0.1111111111111111,
              "#000012"
             ],
             [
              0.2222222222222222,
              "#000013"
             ],
             [
              0.3333333333333333,
              "#000014"
             ],
             [
              0.4444444444444444,
              "#000015"
             ],
             [
              0.5555555555555556,
              "#000016"
             ],
             [
              0.6666666666666666,
              "#000017"
             ],
             [
              0.7777777777777778,
              "#000018"
             ],
             [
              0.8888888888888888,
              "#000019"
             ],
             [
              1,
              "#000020"
             ]
            ],
            "type": "contourcarpet"
           }
          ],
          "heatmap": [
           {
            "colorscale": [
             [
              0,
              "#000011"
             ],
             [
              0.1111111111111111,
              "#000012"
             ],
             [
              0.2222222222222222,
              "#000013"
             ],
             [
              0.3333333333333333,
              "#000014"
             ],
             [
              0.4444444444444444,
              "#000015"
             ],
             [
              0.5555555555555556,
              "#000016"
             ],
             [
              0.6666666666666666,
              "#000017"
             ],
             [
              0.7777777777777778,
              "#000018"
             ],
             [
              0.8888888888888888,
              "#000019"
             ],
             [
              1,
              "#000020"
             ]
            ],
            "type": "heatmap"
           }
          ],
          "histogram2d": [
           {
            "colorscale": [
             [
              0,
              "#000011"
             ],
             [
              0.1111111111111111,
              "#000012"
             ],
             [
              0.2222222222222222,
              "#000013"
             ],
             [
              0.3333333333333333,
              "#000014"
             ],
             [
              0.4444444444444444,
              "#000015"
             ],
             [
              0.5555555555555556,
              "#000016"
             ],
             [
              0.6666666666666666,
              "#000017"
             ],
             [
              0.7777777777777778,
              "#000018"
             ],
             [
              0.8888888888888888,
              "#000019"
             ],
             [
              1,
              "#000020"
             ]
            ],
            "type": "histogram2d"
           }
          ],
          "icicle": [
           {
            "textfont": {
             "color": "white"
            },
            "type": "icicle"
           }
          ],
          "sankey": [
           {
            "textfont": {
             "color": "#000036"
            },
            "type": "sankey"
           }
          ],
          "scatter": [
           {
            "marker": {
             "line": {
              "width": 0
             }
            },
            "type": "scatter"
           }
          ],
          "table": [
           {
            "cells": {
             "fill": {
              "color": "#000038"
             },
             "font": {
              "color": "#000037"
             },
             "line": {
              "color": "#000039"
             }
            },
            "header": {
             "fill": {
              "color": "#000040"
             },
             "font": {
              "color": "#000036"
             },
             "line": {
              "color": "#000039"
             }
            },
            "type": "table"
           }
          ],
          "waterfall": [
           {
            "connector": {
             "line": {
              "color": "#000036",
              "width": 2
             }
            },
            "decreasing": {
             "marker": {
              "color": "#000033"
             }
            },
            "increasing": {
             "marker": {
              "color": "#000032"
             }
            },
            "totals": {
             "marker": {
              "color": "#000034"
             }
            },
            "type": "waterfall"
           }
          ]
         },
         "layout": {
          "coloraxis": {
           "colorscale": [
            [
             0,
             "#000011"
            ],
            [
             0.1111111111111111,
             "#000012"
            ],
            [
             0.2222222222222222,
             "#000013"
            ],
            [
             0.3333333333333333,
             "#000014"
            ],
            [
             0.4444444444444444,
             "#000015"
            ],
            [
             0.5555555555555556,
             "#000016"
            ],
            [
             0.6666666666666666,
             "#000017"
            ],
            [
             0.7777777777777778,
             "#000018"
            ],
            [
             0.8888888888888888,
             "#000019"
            ],
            [
             1,
             "#000020"
            ]
           ]
          },
          "colorscale": {
           "diverging": [
            [
             0,
             "#000021"
            ],
            [
             0.1,
             "#000022"
            ],
            [
             0.2,
             "#000023"
            ],
            [
             0.3,
             "#000024"
            ],
            [
             0.4,
             "#000025"
            ],
            [
             0.5,
             "#000026"
            ],
            [
             0.6,
             "#000027"
            ],
            [
             0.7,
             "#000028"
            ],
            [
             0.8,
             "#000029"
            ],
            [
             0.9,
             "#000030"
            ],
            [
             1,
             "#000031"
            ]
           ],
           "sequential": [
            [
             0,
             "#000011"
            ],
            [
             0.1111111111111111,
             "#000012"
            ],
            [
             0.2222222222222222,
             "#000013"
            ],
            [
             0.3333333333333333,
             "#000014"
            ],
            [
             0.4444444444444444,
             "#000015"
            ],
            [
             0.5555555555555556,
             "#000016"
            ],
            [
             0.6666666666666666,
             "#000017"
            ],
            [
             0.7777777777777778,
             "#000018"
            ],
            [
             0.8888888888888888,
             "#000019"
            ],
            [
             1,
             "#000020"
            ]
           ],
           "sequentialminus": [
            [
             0,
             "#000011"
            ],
            [
             0.1111111111111111,
             "#000012"
            ],
            [
             0.2222222222222222,
             "#000013"
            ],
            [
             0.3333333333333333,
             "#000014"
            ],
            [
             0.4444444444444444,
             "#000015"
            ],
            [
             0.5555555555555556,
             "#000016"
            ],
            [
             0.6666666666666666,
             "#000017"
            ],
            [
             0.7777777777777778,
             "#000018"
            ],
            [
             0.8888888888888888,
             "#000019"
            ],
            [
             1,
             "#000020"
            ]
           ]
          },
          "colorway": [
           "#000001",
           "#000002",
           "#000003",
           "#000004",
           "#000005",
           "#000006",
           "#000007",
           "#000008",
           "#000009",
           "#000010"
          ]
         }
        },
        "title": {
         "text": "Liverpool FC Win-Loss-Draw Results against top Rivals"
        },
        "xaxis": {
         "anchor": "y",
         "domain": [
          0,
          1
         ],
         "dtick": 1,
         "tick0": 1993,
         "tickmode": "linear",
         "title": {
          "text": "Season"
         }
        },
        "yaxis": {
         "anchor": "x",
         "domain": [
          0,
          1
         ],
         "title": {
          "text": "Percentage of Matches"
         }
        }
       }
      }
     },
     "metadata": {},
     "output_type": "display_data"
    }
   ],
   "source": [
    "# create a diagram to show the win-loss-draw results grouped by season\n",
    "fig_liv_rivals_results = px.bar(df_liv_rivals, x='Season_End_Year', y='Count', color='Liverpool_Result', barmode='group', text='Count', color_discrete_map={'Win':'green', 'Loss':'red', 'Draw':'grey'})\n",
    "fig_liv_rivals_results.update_layout(\n",
    "    title = 'Liverpool FC Win-Loss-Draw Results against top Rivals',\n",
    "    legend_title = '',\n",
    "    xaxis_title = 'Season',\n",
    "    yaxis_title = 'Percentage of Matches',\n",
    "\n",
    "    # show all ticks\n",
    "    xaxis = dict(\n",
    "        tickmode = 'linear',\n",
    "        tick0 = 1993,\n",
    "        dtick = 1\n",
    "    ),\n",
    "    \n",
    "    annotations=[\n",
    "        dict(\n",
    "            x=0.5,\n",
    "            y=-0.25,\n",
    "            showarrow=False,\n",
    "            text=\"Source: kaggle.com | Premier League Matches 1993-2023\",\n",
    "            xref=\"paper\",\n",
    "            yref=\"paper\"\n",
    "        )\n",
    "    ]\n",
    ")"
   ]
  },
  {
   "cell_type": "code",
   "execution_count": 8,
   "metadata": {},
   "outputs": [
    {
     "data": {
      "text/html": [
       "<div>\n",
       "<style scoped>\n",
       "    .dataframe tbody tr th:only-of-type {\n",
       "        vertical-align: middle;\n",
       "    }\n",
       "\n",
       "    .dataframe tbody tr th {\n",
       "        vertical-align: top;\n",
       "    }\n",
       "\n",
       "    .dataframe thead th {\n",
       "        text-align: right;\n",
       "    }\n",
       "</style>\n",
       "<table border=\"1\" class=\"dataframe\">\n",
       "  <thead>\n",
       "    <tr style=\"text-align: right;\">\n",
       "      <th></th>\n",
       "      <th>Season_End_Year</th>\n",
       "      <th>Liverpool_Result</th>\n",
       "      <th>Count</th>\n",
       "    </tr>\n",
       "  </thead>\n",
       "  <tbody>\n",
       "    <tr>\n",
       "      <th>0</th>\n",
       "      <td>2010</td>\n",
       "      <td>Draw</td>\n",
       "      <td>23.684211</td>\n",
       "    </tr>\n",
       "    <tr>\n",
       "      <th>1</th>\n",
       "      <td>2010</td>\n",
       "      <td>Loss</td>\n",
       "      <td>28.947368</td>\n",
       "    </tr>\n",
       "    <tr>\n",
       "      <th>2</th>\n",
       "      <td>2010</td>\n",
       "      <td>Win</td>\n",
       "      <td>47.368421</td>\n",
       "    </tr>\n",
       "    <tr>\n",
       "      <th>3</th>\n",
       "      <td>2011</td>\n",
       "      <td>Draw</td>\n",
       "      <td>18.421053</td>\n",
       "    </tr>\n",
       "    <tr>\n",
       "      <th>4</th>\n",
       "      <td>2011</td>\n",
       "      <td>Loss</td>\n",
       "      <td>36.842105</td>\n",
       "    </tr>\n",
       "    <tr>\n",
       "      <th>5</th>\n",
       "      <td>2011</td>\n",
       "      <td>Win</td>\n",
       "      <td>44.736842</td>\n",
       "    </tr>\n",
       "    <tr>\n",
       "      <th>6</th>\n",
       "      <td>2012</td>\n",
       "      <td>Draw</td>\n",
       "      <td>26.315789</td>\n",
       "    </tr>\n",
       "    <tr>\n",
       "      <th>7</th>\n",
       "      <td>2012</td>\n",
       "      <td>Loss</td>\n",
       "      <td>36.842105</td>\n",
       "    </tr>\n",
       "    <tr>\n",
       "      <th>8</th>\n",
       "      <td>2012</td>\n",
       "      <td>Win</td>\n",
       "      <td>36.842105</td>\n",
       "    </tr>\n",
       "    <tr>\n",
       "      <th>9</th>\n",
       "      <td>2013</td>\n",
       "      <td>Draw</td>\n",
       "      <td>34.210526</td>\n",
       "    </tr>\n",
       "    <tr>\n",
       "      <th>10</th>\n",
       "      <td>2013</td>\n",
       "      <td>Loss</td>\n",
       "      <td>23.684211</td>\n",
       "    </tr>\n",
       "    <tr>\n",
       "      <th>11</th>\n",
       "      <td>2013</td>\n",
       "      <td>Win</td>\n",
       "      <td>42.105263</td>\n",
       "    </tr>\n",
       "    <tr>\n",
       "      <th>12</th>\n",
       "      <td>2014</td>\n",
       "      <td>Draw</td>\n",
       "      <td>15.789474</td>\n",
       "    </tr>\n",
       "    <tr>\n",
       "      <th>13</th>\n",
       "      <td>2014</td>\n",
       "      <td>Loss</td>\n",
       "      <td>15.789474</td>\n",
       "    </tr>\n",
       "    <tr>\n",
       "      <th>14</th>\n",
       "      <td>2014</td>\n",
       "      <td>Win</td>\n",
       "      <td>68.421053</td>\n",
       "    </tr>\n",
       "    <tr>\n",
       "      <th>15</th>\n",
       "      <td>2015</td>\n",
       "      <td>Draw</td>\n",
       "      <td>21.052632</td>\n",
       "    </tr>\n",
       "    <tr>\n",
       "      <th>16</th>\n",
       "      <td>2015</td>\n",
       "      <td>Loss</td>\n",
       "      <td>31.578947</td>\n",
       "    </tr>\n",
       "    <tr>\n",
       "      <th>17</th>\n",
       "      <td>2015</td>\n",
       "      <td>Win</td>\n",
       "      <td>47.368421</td>\n",
       "    </tr>\n",
       "    <tr>\n",
       "      <th>18</th>\n",
       "      <td>2016</td>\n",
       "      <td>Draw</td>\n",
       "      <td>7.894737</td>\n",
       "    </tr>\n",
       "    <tr>\n",
       "      <th>19</th>\n",
       "      <td>2016</td>\n",
       "      <td>Loss</td>\n",
       "      <td>5.263158</td>\n",
       "    </tr>\n",
       "    <tr>\n",
       "      <th>20</th>\n",
       "      <td>2016</td>\n",
       "      <td>Win</td>\n",
       "      <td>7.894737</td>\n",
       "    </tr>\n",
       "  </tbody>\n",
       "</table>\n",
       "</div>"
      ],
      "text/plain": [
       "    Season_End_Year Liverpool_Result      Count\n",
       "0              2010             Draw  23.684211\n",
       "1              2010             Loss  28.947368\n",
       "2              2010              Win  47.368421\n",
       "3              2011             Draw  18.421053\n",
       "4              2011             Loss  36.842105\n",
       "5              2011              Win  44.736842\n",
       "6              2012             Draw  26.315789\n",
       "7              2012             Loss  36.842105\n",
       "8              2012              Win  36.842105\n",
       "9              2013             Draw  34.210526\n",
       "10             2013             Loss  23.684211\n",
       "11             2013              Win  42.105263\n",
       "12             2014             Draw  15.789474\n",
       "13             2014             Loss  15.789474\n",
       "14             2014              Win  68.421053\n",
       "15             2015             Draw  21.052632\n",
       "16             2015             Loss  31.578947\n",
       "17             2015              Win  47.368421\n",
       "18             2016             Draw   7.894737\n",
       "19             2016             Loss   5.263158\n",
       "20             2016              Win   7.894737"
      ]
     },
     "execution_count": 8,
     "metadata": {},
     "output_type": "execute_result"
    }
   ],
   "source": [
    "# group df_liv_matches_before by Season_End_Year and Liverpool_Result Percentage\n",
    "df_liv_results = df_liv_matches_before.groupby(['Season_End_Year', 'Liverpool_Result']).size().reset_index(name='Count')\n",
    "\n",
    "# Convert Count to Percentage\n",
    "df_liv_results['Count'] = df_liv_results['Count'] / 38 * 100\n",
    "df_liv_results"
   ]
  },
  {
   "cell_type": "code",
   "execution_count": 9,
   "metadata": {},
   "outputs": [
    {
     "data": {
      "application/vnd.plotly.v1+json": {
       "config": {
        "plotlyServerURL": "https://plot.ly"
       },
       "data": [
        {
         "alignmentgroup": "True",
         "hovertemplate": "Liverpool_Result=Draw<br>Season_End_Year=%{x}<br>Count=%{y}<extra></extra>",
         "legendgroup": "Draw",
         "marker": {
          "color": "red",
          "pattern": {
           "shape": ""
          }
         },
         "name": "Draw",
         "offsetgroup": "Draw",
         "orientation": "v",
         "showlegend": true,
         "textposition": "auto",
         "type": "bar",
         "x": [
          2010,
          2011,
          2012,
          2013,
          2014,
          2015,
          2016
         ],
         "xaxis": "x",
         "y": [
          23.684210526315788,
          18.421052631578945,
          26.31578947368421,
          34.21052631578947,
          15.789473684210526,
          21.052631578947366,
          7.894736842105263
         ],
         "yaxis": "y"
        },
        {
         "alignmentgroup": "True",
         "hovertemplate": "Liverpool_Result=Loss<br>Season_End_Year=%{x}<br>Count=%{y}<extra></extra>",
         "legendgroup": "Loss",
         "marker": {
          "color": "darkgreen",
          "pattern": {
           "shape": ""
          }
         },
         "name": "Loss",
         "offsetgroup": "Loss",
         "orientation": "v",
         "showlegend": true,
         "textposition": "auto",
         "type": "bar",
         "x": [
          2010,
          2011,
          2012,
          2013,
          2014,
          2015,
          2016
         ],
         "xaxis": "x",
         "y": [
          28.947368421052634,
          36.84210526315789,
          36.84210526315789,
          23.684210526315788,
          15.789473684210526,
          31.57894736842105,
          5.263157894736842
         ],
         "yaxis": "y"
        },
        {
         "alignmentgroup": "True",
         "hovertemplate": "Liverpool_Result=Win<br>Season_End_Year=%{x}<br>Count=%{y}<extra></extra>",
         "legendgroup": "Win",
         "marker": {
          "color": "grey",
          "pattern": {
           "shape": ""
          }
         },
         "name": "Win",
         "offsetgroup": "Win",
         "orientation": "v",
         "showlegend": true,
         "textposition": "auto",
         "type": "bar",
         "x": [
          2010,
          2011,
          2012,
          2013,
          2014,
          2015,
          2016
         ],
         "xaxis": "x",
         "y": [
          47.368421052631575,
          44.73684210526316,
          36.84210526315789,
          42.10526315789473,
          68.42105263157895,
          47.368421052631575,
          7.894736842105263
         ],
         "yaxis": "y"
        }
       ],
       "layout": {
        "annotations": [
         {
          "showarrow": false,
          "text": "Source: kaggle.com | Premier League Matches 1993-2023",
          "x": 0.5,
          "xref": "paper",
          "y": -0.25,
          "yref": "paper"
         }
        ],
        "barmode": "group",
        "legend": {
         "title": {
          "text": ""
         },
         "tracegroupgap": 0
        },
        "margin": {
         "t": 60
        },
        "template": {
         "data": {
          "candlestick": [
           {
            "decreasing": {
             "line": {
              "color": "#000033"
             }
            },
            "increasing": {
             "line": {
              "color": "#000032"
             }
            },
            "type": "candlestick"
           }
          ],
          "contour": [
           {
            "colorscale": [
             [
              0,
              "#000011"
             ],
             [
              0.1111111111111111,
              "#000012"
             ],
             [
              0.2222222222222222,
              "#000013"
             ],
             [
              0.3333333333333333,
              "#000014"
             ],
             [
              0.4444444444444444,
              "#000015"
             ],
             [
              0.5555555555555556,
              "#000016"
             ],
             [
              0.6666666666666666,
              "#000017"
             ],
             [
              0.7777777777777778,
              "#000018"
             ],
             [
              0.8888888888888888,
              "#000019"
             ],
             [
              1,
              "#000020"
             ]
            ],
            "type": "contour"
           }
          ],
          "contourcarpet": [
           {
            "colorscale": [
             [
              0,
              "#000011"
             ],
             [
              0.1111111111111111,
              "#000012"
             ],
             [
              0.2222222222222222,
              "#000013"
             ],
             [
              0.3333333333333333,
              "#000014"
             ],
             [
              0.4444444444444444,
              "#000015"
             ],
             [
              0.5555555555555556,
              "#000016"
             ],
             [
              0.6666666666666666,
              "#000017"
             ],
             [
              0.7777777777777778,
              "#000018"
             ],
             [
              0.8888888888888888,
              "#000019"
             ],
             [
              1,
              "#000020"
             ]
            ],
            "type": "contourcarpet"
           }
          ],
          "heatmap": [
           {
            "colorscale": [
             [
              0,
              "#000011"
             ],
             [
              0.1111111111111111,
              "#000012"
             ],
             [
              0.2222222222222222,
              "#000013"
             ],
             [
              0.3333333333333333,
              "#000014"
             ],
             [
              0.4444444444444444,
              "#000015"
             ],
             [
              0.5555555555555556,
              "#000016"
             ],
             [
              0.6666666666666666,
              "#000017"
             ],
             [
              0.7777777777777778,
              "#000018"
             ],
             [
              0.8888888888888888,
              "#000019"
             ],
             [
              1,
              "#000020"
             ]
            ],
            "type": "heatmap"
           }
          ],
          "histogram2d": [
           {
            "colorscale": [
             [
              0,
              "#000011"
             ],
             [
              0.1111111111111111,
              "#000012"
             ],
             [
              0.2222222222222222,
              "#000013"
             ],
             [
              0.3333333333333333,
              "#000014"
             ],
             [
              0.4444444444444444,
              "#000015"
             ],
             [
              0.5555555555555556,
              "#000016"
             ],
             [
              0.6666666666666666,
              "#000017"
             ],
             [
              0.7777777777777778,
              "#000018"
             ],
             [
              0.8888888888888888,
              "#000019"
             ],
             [
              1,
              "#000020"
             ]
            ],
            "type": "histogram2d"
           }
          ],
          "icicle": [
           {
            "textfont": {
             "color": "white"
            },
            "type": "icicle"
           }
          ],
          "sankey": [
           {
            "textfont": {
             "color": "#000036"
            },
            "type": "sankey"
           }
          ],
          "scatter": [
           {
            "marker": {
             "line": {
              "width": 0
             }
            },
            "type": "scatter"
           }
          ],
          "table": [
           {
            "cells": {
             "fill": {
              "color": "#000038"
             },
             "font": {
              "color": "#000037"
             },
             "line": {
              "color": "#000039"
             }
            },
            "header": {
             "fill": {
              "color": "#000040"
             },
             "font": {
              "color": "#000036"
             },
             "line": {
              "color": "#000039"
             }
            },
            "type": "table"
           }
          ],
          "waterfall": [
           {
            "connector": {
             "line": {
              "color": "#000036",
              "width": 2
             }
            },
            "decreasing": {
             "marker": {
              "color": "#000033"
             }
            },
            "increasing": {
             "marker": {
              "color": "#000032"
             }
            },
            "totals": {
             "marker": {
              "color": "#000034"
             }
            },
            "type": "waterfall"
           }
          ]
         },
         "layout": {
          "coloraxis": {
           "colorscale": [
            [
             0,
             "#000011"
            ],
            [
             0.1111111111111111,
             "#000012"
            ],
            [
             0.2222222222222222,
             "#000013"
            ],
            [
             0.3333333333333333,
             "#000014"
            ],
            [
             0.4444444444444444,
             "#000015"
            ],
            [
             0.5555555555555556,
             "#000016"
            ],
            [
             0.6666666666666666,
             "#000017"
            ],
            [
             0.7777777777777778,
             "#000018"
            ],
            [
             0.8888888888888888,
             "#000019"
            ],
            [
             1,
             "#000020"
            ]
           ]
          },
          "colorscale": {
           "diverging": [
            [
             0,
             "#000021"
            ],
            [
             0.1,
             "#000022"
            ],
            [
             0.2,
             "#000023"
            ],
            [
             0.3,
             "#000024"
            ],
            [
             0.4,
             "#000025"
            ],
            [
             0.5,
             "#000026"
            ],
            [
             0.6,
             "#000027"
            ],
            [
             0.7,
             "#000028"
            ],
            [
             0.8,
             "#000029"
            ],
            [
             0.9,
             "#000030"
            ],
            [
             1,
             "#000031"
            ]
           ],
           "sequential": [
            [
             0,
             "#000011"
            ],
            [
             0.1111111111111111,
             "#000012"
            ],
            [
             0.2222222222222222,
             "#000013"
            ],
            [
             0.3333333333333333,
             "#000014"
            ],
            [
             0.4444444444444444,
             "#000015"
            ],
            [
             0.5555555555555556,
             "#000016"
            ],
            [
             0.6666666666666666,
             "#000017"
            ],
            [
             0.7777777777777778,
             "#000018"
            ],
            [
             0.8888888888888888,
             "#000019"
            ],
            [
             1,
             "#000020"
            ]
           ],
           "sequentialminus": [
            [
             0,
             "#000011"
            ],
            [
             0.1111111111111111,
             "#000012"
            ],
            [
             0.2222222222222222,
             "#000013"
            ],
            [
             0.3333333333333333,
             "#000014"
            ],
            [
             0.4444444444444444,
             "#000015"
            ],
            [
             0.5555555555555556,
             "#000016"
            ],
            [
             0.6666666666666666,
             "#000017"
            ],
            [
             0.7777777777777778,
             "#000018"
            ],
            [
             0.8888888888888888,
             "#000019"
            ],
            [
             1,
             "#000020"
            ]
           ]
          },
          "colorway": [
           "#000001",
           "#000002",
           "#000003",
           "#000004",
           "#000005",
           "#000006",
           "#000007",
           "#000008",
           "#000009",
           "#000010"
          ]
         }
        },
        "title": {
         "text": "Liverpool FC Win-Loss-Draw Results"
        },
        "xaxis": {
         "anchor": "y",
         "domain": [
          0,
          1
         ],
         "title": {
          "text": "Season"
         }
        },
        "yaxis": {
         "anchor": "x",
         "domain": [
          0,
          1
         ],
         "title": {
          "text": "Percentage of Matches"
         }
        }
       }
      }
     },
     "metadata": {},
     "output_type": "display_data"
    }
   ],
   "source": [
    "# create a diagram to show the win-loss-draw results grouped by season\n",
    "fig_liv_results = px.bar(df_liv_results, x='Season_End_Year', y='Count', color='Liverpool_Result', barmode='group', color_discrete_sequence=['red', 'darkgreen', 'grey'])\n",
    "fig_liv_results.update_layout(\n",
    "    title = 'Liverpool FC Win-Loss-Draw Results',\n",
    "    legend_title = '',\n",
    "    xaxis_title = 'Season',\n",
    "    yaxis_title = 'Percentage of Matches',\n",
    "    # add source\n",
    "    annotations=[\n",
    "        dict(\n",
    "            x=0.5,\n",
    "            y=-0.25,\n",
    "            showarrow=False,\n",
    "            text=\"Source: kaggle.com | Premier League Matches 1993-2023\",\n",
    "            xref=\"paper\",\n",
    "            yref=\"paper\"\n",
    "        )\n",
    "    ]\n",
    ")\n"
   ]
  },
  {
   "cell_type": "code",
   "execution_count": 10,
   "metadata": {},
   "outputs": [],
   "source": [
    "# export df_liv_results to csv\n",
    "df_liv_results.to_csv('season_results_without_klopp.csv', index=False)"
   ]
  },
  {
   "attachments": {},
   "cell_type": "markdown",
   "metadata": {},
   "source": [
    "## Liverpool Matches with Klopp (2015-10-08)"
   ]
  },
  {
   "cell_type": "code",
   "execution_count": 11,
   "metadata": {},
   "outputs": [
    {
     "data": {
      "text/html": [
       "<div>\n",
       "<style scoped>\n",
       "    .dataframe tbody tr th:only-of-type {\n",
       "        vertical-align: middle;\n",
       "    }\n",
       "\n",
       "    .dataframe tbody tr th {\n",
       "        vertical-align: top;\n",
       "    }\n",
       "\n",
       "    .dataframe thead th {\n",
       "        text-align: right;\n",
       "    }\n",
       "</style>\n",
       "<table border=\"1\" class=\"dataframe\">\n",
       "  <thead>\n",
       "    <tr style=\"text-align: right;\">\n",
       "      <th></th>\n",
       "      <th>Season_End_Year</th>\n",
       "      <th>Wk</th>\n",
       "      <th>Date</th>\n",
       "      <th>Home</th>\n",
       "      <th>HomeGoals</th>\n",
       "      <th>AwayGoals</th>\n",
       "      <th>Away</th>\n",
       "      <th>FTR</th>\n",
       "      <th>Liverpool_Result</th>\n",
       "    </tr>\n",
       "  </thead>\n",
       "  <tbody>\n",
       "    <tr>\n",
       "      <th>9066</th>\n",
       "      <td>2016</td>\n",
       "      <td>9</td>\n",
       "      <td>2015-10-17</td>\n",
       "      <td>Tottenham</td>\n",
       "      <td>0</td>\n",
       "      <td>0</td>\n",
       "      <td>Liverpool</td>\n",
       "      <td>D</td>\n",
       "      <td>Draw</td>\n",
       "    </tr>\n",
       "    <tr>\n",
       "      <th>9085</th>\n",
       "      <td>2016</td>\n",
       "      <td>10</td>\n",
       "      <td>2015-10-25</td>\n",
       "      <td>Liverpool</td>\n",
       "      <td>1</td>\n",
       "      <td>1</td>\n",
       "      <td>Southampton</td>\n",
       "      <td>D</td>\n",
       "      <td>Draw</td>\n",
       "    </tr>\n",
       "    <tr>\n",
       "      <th>9086</th>\n",
       "      <td>2016</td>\n",
       "      <td>11</td>\n",
       "      <td>2015-10-31</td>\n",
       "      <td>Chelsea</td>\n",
       "      <td>1</td>\n",
       "      <td>3</td>\n",
       "      <td>Liverpool</td>\n",
       "      <td>A</td>\n",
       "      <td>Win</td>\n",
       "    </tr>\n",
       "    <tr>\n",
       "      <th>9105</th>\n",
       "      <td>2016</td>\n",
       "      <td>12</td>\n",
       "      <td>2015-11-08</td>\n",
       "      <td>Liverpool</td>\n",
       "      <td>1</td>\n",
       "      <td>2</td>\n",
       "      <td>Crystal Palace</td>\n",
       "      <td>A</td>\n",
       "      <td>Loss</td>\n",
       "    </tr>\n",
       "    <tr>\n",
       "      <th>9113</th>\n",
       "      <td>2016</td>\n",
       "      <td>13</td>\n",
       "      <td>2015-11-21</td>\n",
       "      <td>Manchester City</td>\n",
       "      <td>1</td>\n",
       "      <td>4</td>\n",
       "      <td>Liverpool</td>\n",
       "      <td>A</td>\n",
       "      <td>Win</td>\n",
       "    </tr>\n",
       "    <tr>\n",
       "      <th>...</th>\n",
       "      <td>...</td>\n",
       "      <td>...</td>\n",
       "      <td>...</td>\n",
       "      <td>...</td>\n",
       "      <td>...</td>\n",
       "      <td>...</td>\n",
       "      <td>...</td>\n",
       "      <td>...</td>\n",
       "      <td>...</td>\n",
       "    </tr>\n",
       "    <tr>\n",
       "      <th>11980</th>\n",
       "      <td>2023</td>\n",
       "      <td>28</td>\n",
       "      <td>2023-05-03</td>\n",
       "      <td>Liverpool</td>\n",
       "      <td>1</td>\n",
       "      <td>0</td>\n",
       "      <td>Fulham</td>\n",
       "      <td>H</td>\n",
       "      <td>Win</td>\n",
       "    </tr>\n",
       "    <tr>\n",
       "      <th>11987</th>\n",
       "      <td>2023</td>\n",
       "      <td>35</td>\n",
       "      <td>2023-05-06</td>\n",
       "      <td>Liverpool</td>\n",
       "      <td>1</td>\n",
       "      <td>0</td>\n",
       "      <td>Brentford</td>\n",
       "      <td>H</td>\n",
       "      <td>Win</td>\n",
       "    </tr>\n",
       "    <tr>\n",
       "      <th>12002</th>\n",
       "      <td>2023</td>\n",
       "      <td>36</td>\n",
       "      <td>2023-05-15</td>\n",
       "      <td>Leicester City</td>\n",
       "      <td>0</td>\n",
       "      <td>3</td>\n",
       "      <td>Liverpool</td>\n",
       "      <td>A</td>\n",
       "      <td>Win</td>\n",
       "    </tr>\n",
       "    <tr>\n",
       "      <th>12005</th>\n",
       "      <td>2023</td>\n",
       "      <td>37</td>\n",
       "      <td>2023-05-20</td>\n",
       "      <td>Liverpool</td>\n",
       "      <td>1</td>\n",
       "      <td>1</td>\n",
       "      <td>Aston Villa</td>\n",
       "      <td>D</td>\n",
       "      <td>Draw</td>\n",
       "    </tr>\n",
       "    <tr>\n",
       "      <th>12020</th>\n",
       "      <td>2023</td>\n",
       "      <td>38</td>\n",
       "      <td>2023-05-28</td>\n",
       "      <td>Southampton</td>\n",
       "      <td>4</td>\n",
       "      <td>4</td>\n",
       "      <td>Liverpool</td>\n",
       "      <td>D</td>\n",
       "      <td>Draw</td>\n",
       "    </tr>\n",
       "  </tbody>\n",
       "</table>\n",
       "<p>296 rows × 9 columns</p>\n",
       "</div>"
      ],
      "text/plain": [
       "       Season_End_Year  Wk        Date             Home  HomeGoals  AwayGoals   \n",
       "9066              2016   9  2015-10-17        Tottenham          0          0  \\\n",
       "9085              2016  10  2015-10-25        Liverpool          1          1   \n",
       "9086              2016  11  2015-10-31          Chelsea          1          3   \n",
       "9105              2016  12  2015-11-08        Liverpool          1          2   \n",
       "9113              2016  13  2015-11-21  Manchester City          1          4   \n",
       "...                ...  ..         ...              ...        ...        ...   \n",
       "11980             2023  28  2023-05-03        Liverpool          1          0   \n",
       "11987             2023  35  2023-05-06        Liverpool          1          0   \n",
       "12002             2023  36  2023-05-15   Leicester City          0          3   \n",
       "12005             2023  37  2023-05-20        Liverpool          1          1   \n",
       "12020             2023  38  2023-05-28      Southampton          4          4   \n",
       "\n",
       "                 Away FTR Liverpool_Result  \n",
       "9066        Liverpool   D             Draw  \n",
       "9085      Southampton   D             Draw  \n",
       "9086        Liverpool   A              Win  \n",
       "9105   Crystal Palace   A             Loss  \n",
       "9113        Liverpool   A              Win  \n",
       "...               ...  ..              ...  \n",
       "11980          Fulham   H              Win  \n",
       "11987       Brentford   H              Win  \n",
       "12002       Liverpool   A              Win  \n",
       "12005     Aston Villa   D             Draw  \n",
       "12020       Liverpool   D             Draw  \n",
       "\n",
       "[296 rows x 9 columns]"
      ]
     },
     "execution_count": 11,
     "metadata": {},
     "output_type": "execute_result"
    }
   ],
   "source": [
    "df_liv_matches_after = df_liv_matches.copy()\n",
    "\n",
    "# only get matches from 2015-10-08 onwards\n",
    "df_liv_matches_after = df_liv_matches_after[df_liv_matches_after['Date'] >= '2015-10-08']\n",
    "\n",
    "# create a column to indicate whether Liverpool won, lost, or drew the match\n",
    "df_liv_matches_after['Liverpool_Result'] = np.where(df_liv_matches_after['Home'] == 'Liverpool',\n",
    "                                            np.where(df_liv_matches_after['HomeGoals'] > df_liv_matches_after['AwayGoals'], 'Win',\n",
    "                                            np.where(df_liv_matches_after['HomeGoals'] < df_liv_matches_after['AwayGoals'], 'Loss', 'Draw')),\n",
    "                                            np.where(df_liv_matches_after['HomeGoals'] < df_liv_matches_after['AwayGoals'], 'Win',\n",
    "                                            np.where(df_liv_matches_after['HomeGoals'] > df_liv_matches_after['AwayGoals'], 'Loss', 'Draw')))\n",
    "\n",
    "\n",
    "df_liv_matches_after"
   ]
  },
  {
   "cell_type": "code",
   "execution_count": null,
   "metadata": {},
   "outputs": [],
   "source": []
  },
  {
   "attachments": {},
   "cell_type": "markdown",
   "metadata": {},
   "source": [
    "## Win Loss Ratio per Season"
   ]
  },
  {
   "cell_type": "code",
   "execution_count": 12,
   "metadata": {},
   "outputs": [],
   "source": [
    "# "
   ]
  },
  {
   "attachments": {},
   "cell_type": "markdown",
   "metadata": {},
   "source": [
    "## Win Loss Ratio"
   ]
  },
  {
   "cell_type": "code",
   "execution_count": 13,
   "metadata": {},
   "outputs": [
    {
     "data": {
      "text/html": [
       "<div>\n",
       "<style scoped>\n",
       "    .dataframe tbody tr th:only-of-type {\n",
       "        vertical-align: middle;\n",
       "    }\n",
       "\n",
       "    .dataframe tbody tr th {\n",
       "        vertical-align: top;\n",
       "    }\n",
       "\n",
       "    .dataframe thead th {\n",
       "        text-align: right;\n",
       "    }\n",
       "</style>\n",
       "<table border=\"1\" class=\"dataframe\">\n",
       "  <thead>\n",
       "    <tr style=\"text-align: right;\">\n",
       "      <th></th>\n",
       "      <th>Result</th>\n",
       "      <th>Without Klopp</th>\n",
       "      <th>With Klopp</th>\n",
       "    </tr>\n",
       "  </thead>\n",
       "  <tbody>\n",
       "    <tr>\n",
       "      <th>0</th>\n",
       "      <td>Win</td>\n",
       "      <td>47.457627</td>\n",
       "      <td>62.500000</td>\n",
       "    </tr>\n",
       "    <tr>\n",
       "      <th>1</th>\n",
       "      <td>Loss</td>\n",
       "      <td>28.813559</td>\n",
       "      <td>14.527027</td>\n",
       "    </tr>\n",
       "    <tr>\n",
       "      <th>2</th>\n",
       "      <td>Draw</td>\n",
       "      <td>23.728814</td>\n",
       "      <td>22.972973</td>\n",
       "    </tr>\n",
       "  </tbody>\n",
       "</table>\n",
       "</div>"
      ],
      "text/plain": [
       "  Result  Without Klopp  With Klopp\n",
       "0    Win      47.457627   62.500000\n",
       "1   Loss      28.813559   14.527027\n",
       "2   Draw      23.728814   22.972973"
      ]
     },
     "execution_count": 13,
     "metadata": {},
     "output_type": "execute_result"
    }
   ],
   "source": [
    "# Without Klopp\n",
    "df_liv_results_before = df_liv_matches_before['Liverpool_Result'].value_counts(normalize=True).rename_axis('Result').reset_index(name='Without Klopp')\n",
    "\n",
    "# With Klopp\n",
    "df_liv_results_after = df_liv_matches_after['Liverpool_Result'].value_counts(normalize=True).rename_axis('Result').reset_index(name='With Klopp')\n",
    "\n",
    "# make percentages into percentages\n",
    "df_liv_results_before['Without Klopp'] = df_liv_results_before['Without Klopp'] * 100\n",
    "df_liv_results_after['With Klopp'] = df_liv_results_after['With Klopp'] * 100\n",
    "\n",
    "# merge df_liv_results_before and df_liv_results_after\n",
    "df_liv_results = pd.merge(df_liv_results_before, df_liv_results_after, on='Result', how='outer')\n",
    "df_liv_results"
   ]
  },
  {
   "cell_type": "code",
   "execution_count": 14,
   "metadata": {},
   "outputs": [
    {
     "data": {
      "application/vnd.plotly.v1+json": {
       "config": {
        "plotlyServerURL": "https://plot.ly"
       },
       "data": [
        {
         "alignmentgroup": "True",
         "hovertemplate": "variable=Without Klopp<br>Result=%{x}<br>value=%{y}<extra></extra>",
         "legendgroup": "Without Klopp",
         "marker": {
          "color": "red",
          "pattern": {
           "shape": ""
          }
         },
         "name": "Without Klopp",
         "offsetgroup": "Without Klopp",
         "orientation": "v",
         "showlegend": true,
         "textposition": "auto",
         "type": "bar",
         "x": [
          "Win",
          "Loss",
          "Draw"
         ],
         "xaxis": "x",
         "y": [
          47.45762711864407,
          28.8135593220339,
          23.728813559322035
         ],
         "yaxis": "y"
        },
        {
         "alignmentgroup": "True",
         "hovertemplate": "variable=With Klopp<br>Result=%{x}<br>value=%{y}<extra></extra>",
         "legendgroup": "With Klopp",
         "marker": {
          "color": "darkgreen",
          "pattern": {
           "shape": ""
          }
         },
         "name": "With Klopp",
         "offsetgroup": "With Klopp",
         "orientation": "v",
         "showlegend": true,
         "textposition": "auto",
         "type": "bar",
         "x": [
          "Win",
          "Loss",
          "Draw"
         ],
         "xaxis": "x",
         "y": [
          62.5,
          14.527027027027026,
          22.972972972972975
         ],
         "yaxis": "y"
        }
       ],
       "layout": {
        "barmode": "group",
        "font": {
         "color": "black"
        },
        "legend": {
         "title": {
          "text": "Klopp"
         },
         "tracegroupgap": 0
        },
        "margin": {
         "t": 60
        },
        "template": {
         "data": {
          "candlestick": [
           {
            "decreasing": {
             "line": {
              "color": "#000033"
             }
            },
            "increasing": {
             "line": {
              "color": "#000032"
             }
            },
            "type": "candlestick"
           }
          ],
          "contour": [
           {
            "colorscale": [
             [
              0,
              "#000011"
             ],
             [
              0.1111111111111111,
              "#000012"
             ],
             [
              0.2222222222222222,
              "#000013"
             ],
             [
              0.3333333333333333,
              "#000014"
             ],
             [
              0.4444444444444444,
              "#000015"
             ],
             [
              0.5555555555555556,
              "#000016"
             ],
             [
              0.6666666666666666,
              "#000017"
             ],
             [
              0.7777777777777778,
              "#000018"
             ],
             [
              0.8888888888888888,
              "#000019"
             ],
             [
              1,
              "#000020"
             ]
            ],
            "type": "contour"
           }
          ],
          "contourcarpet": [
           {
            "colorscale": [
             [
              0,
              "#000011"
             ],
             [
              0.1111111111111111,
              "#000012"
             ],
             [
              0.2222222222222222,
              "#000013"
             ],
             [
              0.3333333333333333,
              "#000014"
             ],
             [
              0.4444444444444444,
              "#000015"
             ],
             [
              0.5555555555555556,
              "#000016"
             ],
             [
              0.6666666666666666,
              "#000017"
             ],
             [
              0.7777777777777778,
              "#000018"
             ],
             [
              0.8888888888888888,
              "#000019"
             ],
             [
              1,
              "#000020"
             ]
            ],
            "type": "contourcarpet"
           }
          ],
          "heatmap": [
           {
            "colorscale": [
             [
              0,
              "#000011"
             ],
             [
              0.1111111111111111,
              "#000012"
             ],
             [
              0.2222222222222222,
              "#000013"
             ],
             [
              0.3333333333333333,
              "#000014"
             ],
             [
              0.4444444444444444,
              "#000015"
             ],
             [
              0.5555555555555556,
              "#000016"
             ],
             [
              0.6666666666666666,
              "#000017"
             ],
             [
              0.7777777777777778,
              "#000018"
             ],
             [
              0.8888888888888888,
              "#000019"
             ],
             [
              1,
              "#000020"
             ]
            ],
            "type": "heatmap"
           }
          ],
          "histogram2d": [
           {
            "colorscale": [
             [
              0,
              "#000011"
             ],
             [
              0.1111111111111111,
              "#000012"
             ],
             [
              0.2222222222222222,
              "#000013"
             ],
             [
              0.3333333333333333,
              "#000014"
             ],
             [
              0.4444444444444444,
              "#000015"
             ],
             [
              0.5555555555555556,
              "#000016"
             ],
             [
              0.6666666666666666,
              "#000017"
             ],
             [
              0.7777777777777778,
              "#000018"
             ],
             [
              0.8888888888888888,
              "#000019"
             ],
             [
              1,
              "#000020"
             ]
            ],
            "type": "histogram2d"
           }
          ],
          "icicle": [
           {
            "textfont": {
             "color": "white"
            },
            "type": "icicle"
           }
          ],
          "sankey": [
           {
            "textfont": {
             "color": "#000036"
            },
            "type": "sankey"
           }
          ],
          "scatter": [
           {
            "marker": {
             "line": {
              "width": 0
             }
            },
            "type": "scatter"
           }
          ],
          "table": [
           {
            "cells": {
             "fill": {
              "color": "#000038"
             },
             "font": {
              "color": "#000037"
             },
             "line": {
              "color": "#000039"
             }
            },
            "header": {
             "fill": {
              "color": "#000040"
             },
             "font": {
              "color": "#000036"
             },
             "line": {
              "color": "#000039"
             }
            },
            "type": "table"
           }
          ],
          "waterfall": [
           {
            "connector": {
             "line": {
              "color": "#000036",
              "width": 2
             }
            },
            "decreasing": {
             "marker": {
              "color": "#000033"
             }
            },
            "increasing": {
             "marker": {
              "color": "#000032"
             }
            },
            "totals": {
             "marker": {
              "color": "#000034"
             }
            },
            "type": "waterfall"
           }
          ]
         },
         "layout": {
          "coloraxis": {
           "colorscale": [
            [
             0,
             "#000011"
            ],
            [
             0.1111111111111111,
             "#000012"
            ],
            [
             0.2222222222222222,
             "#000013"
            ],
            [
             0.3333333333333333,
             "#000014"
            ],
            [
             0.4444444444444444,
             "#000015"
            ],
            [
             0.5555555555555556,
             "#000016"
            ],
            [
             0.6666666666666666,
             "#000017"
            ],
            [
             0.7777777777777778,
             "#000018"
            ],
            [
             0.8888888888888888,
             "#000019"
            ],
            [
             1,
             "#000020"
            ]
           ]
          },
          "colorscale": {
           "diverging": [
            [
             0,
             "#000021"
            ],
            [
             0.1,
             "#000022"
            ],
            [
             0.2,
             "#000023"
            ],
            [
             0.3,
             "#000024"
            ],
            [
             0.4,
             "#000025"
            ],
            [
             0.5,
             "#000026"
            ],
            [
             0.6,
             "#000027"
            ],
            [
             0.7,
             "#000028"
            ],
            [
             0.8,
             "#000029"
            ],
            [
             0.9,
             "#000030"
            ],
            [
             1,
             "#000031"
            ]
           ],
           "sequential": [
            [
             0,
             "#000011"
            ],
            [
             0.1111111111111111,
             "#000012"
            ],
            [
             0.2222222222222222,
             "#000013"
            ],
            [
             0.3333333333333333,
             "#000014"
            ],
            [
             0.4444444444444444,
             "#000015"
            ],
            [
             0.5555555555555556,
             "#000016"
            ],
            [
             0.6666666666666666,
             "#000017"
            ],
            [
             0.7777777777777778,
             "#000018"
            ],
            [
             0.8888888888888888,
             "#000019"
            ],
            [
             1,
             "#000020"
            ]
           ],
           "sequentialminus": [
            [
             0,
             "#000011"
            ],
            [
             0.1111111111111111,
             "#000012"
            ],
            [
             0.2222222222222222,
             "#000013"
            ],
            [
             0.3333333333333333,
             "#000014"
            ],
            [
             0.4444444444444444,
             "#000015"
            ],
            [
             0.5555555555555556,
             "#000016"
            ],
            [
             0.6666666666666666,
             "#000017"
            ],
            [
             0.7777777777777778,
             "#000018"
            ],
            [
             0.8888888888888888,
             "#000019"
            ],
            [
             1,
             "#000020"
            ]
           ]
          },
          "colorway": [
           "#000001",
           "#000002",
           "#000003",
           "#000004",
           "#000005",
           "#000006",
           "#000007",
           "#000008",
           "#000009",
           "#000010"
          ]
         }
        },
        "title": {
         "text": "Liverpool Results Before and After Klopp"
        },
        "xaxis": {
         "anchor": "y",
         "domain": [
          0,
          1
         ],
         "title": {
          "text": "Result"
         }
        },
        "yaxis": {
         "anchor": "x",
         "domain": [
          0,
          1
         ],
         "title": {
          "text": "Percentage of Matches"
         }
        }
       }
      }
     },
     "metadata": {},
     "output_type": "display_data"
    }
   ],
   "source": [
    "# plot df_liv_results with plotly\n",
    "fig = px.bar(df_liv_results, x='Result', y=['Without Klopp', 'With Klopp'], barmode='group', color_discrete_sequence=['red', 'darkgreen'])\n",
    "fig.update_layout(\n",
    "    title = 'Liverpool Results Before and After Klopp',\n",
    "    xaxis_title = 'Result',\n",
    "    yaxis_title = 'Percentage of Matches',\n",
    "    legend_title = 'Klopp',\n",
    "    font = dict(\n",
    "        color='black'\n",
    "    )\n",
    ")\n",
    "fig.show()"
   ]
  },
  {
   "cell_type": "code",
   "execution_count": 15,
   "metadata": {},
   "outputs": [],
   "source": [
    "# export df_liv_results to csv\n",
    "df_liv_results.to_csv('results_with_without_klopp.csv', index=False)"
   ]
  },
  {
   "attachments": {},
   "cell_type": "markdown",
   "metadata": {},
   "source": [
    "## Premier League Standings"
   ]
  },
  {
   "cell_type": "code",
   "execution_count": 16,
   "metadata": {},
   "outputs": [
    {
     "data": {
      "text/html": [
       "<div>\n",
       "<style scoped>\n",
       "    .dataframe tbody tr th:only-of-type {\n",
       "        vertical-align: middle;\n",
       "    }\n",
       "\n",
       "    .dataframe tbody tr th {\n",
       "        vertical-align: top;\n",
       "    }\n",
       "\n",
       "    .dataframe thead th {\n",
       "        text-align: right;\n",
       "    }\n",
       "</style>\n",
       "<table border=\"1\" class=\"dataframe\">\n",
       "  <thead>\n",
       "    <tr style=\"text-align: right;\">\n",
       "      <th></th>\n",
       "      <th>Season_End_Year</th>\n",
       "      <th>Team</th>\n",
       "      <th>Rk</th>\n",
       "      <th>MP</th>\n",
       "      <th>W</th>\n",
       "      <th>D</th>\n",
       "      <th>L</th>\n",
       "      <th>GF</th>\n",
       "      <th>GA</th>\n",
       "      <th>GD</th>\n",
       "      <th>Pts</th>\n",
       "      <th>Notes</th>\n",
       "    </tr>\n",
       "  </thead>\n",
       "  <tbody>\n",
       "    <tr>\n",
       "      <th>0</th>\n",
       "      <td>1993</td>\n",
       "      <td>Arsenal</td>\n",
       "      <td>10</td>\n",
       "      <td>42</td>\n",
       "      <td>15</td>\n",
       "      <td>11</td>\n",
       "      <td>16</td>\n",
       "      <td>40</td>\n",
       "      <td>38</td>\n",
       "      <td>2</td>\n",
       "      <td>56</td>\n",
       "      <td>→ European Cup Winners' Cup via cup win 2</td>\n",
       "    </tr>\n",
       "    <tr>\n",
       "      <th>1</th>\n",
       "      <td>1993</td>\n",
       "      <td>Aston Villa</td>\n",
       "      <td>2</td>\n",
       "      <td>42</td>\n",
       "      <td>21</td>\n",
       "      <td>11</td>\n",
       "      <td>10</td>\n",
       "      <td>57</td>\n",
       "      <td>40</td>\n",
       "      <td>17</td>\n",
       "      <td>74</td>\n",
       "      <td>→ UEFA Cup via league finish</td>\n",
       "    </tr>\n",
       "    <tr>\n",
       "      <th>2</th>\n",
       "      <td>1993</td>\n",
       "      <td>Blackburn</td>\n",
       "      <td>4</td>\n",
       "      <td>42</td>\n",
       "      <td>20</td>\n",
       "      <td>11</td>\n",
       "      <td>11</td>\n",
       "      <td>68</td>\n",
       "      <td>46</td>\n",
       "      <td>22</td>\n",
       "      <td>71</td>\n",
       "      <td>NaN</td>\n",
       "    </tr>\n",
       "    <tr>\n",
       "      <th>3</th>\n",
       "      <td>1993</td>\n",
       "      <td>Chelsea</td>\n",
       "      <td>11</td>\n",
       "      <td>42</td>\n",
       "      <td>14</td>\n",
       "      <td>14</td>\n",
       "      <td>14</td>\n",
       "      <td>51</td>\n",
       "      <td>54</td>\n",
       "      <td>-3</td>\n",
       "      <td>56</td>\n",
       "      <td>NaN</td>\n",
       "    </tr>\n",
       "    <tr>\n",
       "      <th>4</th>\n",
       "      <td>1993</td>\n",
       "      <td>Coventry City</td>\n",
       "      <td>15</td>\n",
       "      <td>42</td>\n",
       "      <td>13</td>\n",
       "      <td>13</td>\n",
       "      <td>16</td>\n",
       "      <td>52</td>\n",
       "      <td>57</td>\n",
       "      <td>-5</td>\n",
       "      <td>52</td>\n",
       "      <td>NaN</td>\n",
       "    </tr>\n",
       "    <tr>\n",
       "      <th>...</th>\n",
       "      <td>...</td>\n",
       "      <td>...</td>\n",
       "      <td>...</td>\n",
       "      <td>...</td>\n",
       "      <td>...</td>\n",
       "      <td>...</td>\n",
       "      <td>...</td>\n",
       "      <td>...</td>\n",
       "      <td>...</td>\n",
       "      <td>...</td>\n",
       "      <td>...</td>\n",
       "      <td>...</td>\n",
       "    </tr>\n",
       "    <tr>\n",
       "      <th>621</th>\n",
       "      <td>2023</td>\n",
       "      <td>Nott'ham Forest</td>\n",
       "      <td>16</td>\n",
       "      <td>38</td>\n",
       "      <td>9</td>\n",
       "      <td>11</td>\n",
       "      <td>18</td>\n",
       "      <td>38</td>\n",
       "      <td>68</td>\n",
       "      <td>-30</td>\n",
       "      <td>38</td>\n",
       "      <td>NaN</td>\n",
       "    </tr>\n",
       "    <tr>\n",
       "      <th>622</th>\n",
       "      <td>2023</td>\n",
       "      <td>Southampton</td>\n",
       "      <td>20</td>\n",
       "      <td>38</td>\n",
       "      <td>6</td>\n",
       "      <td>7</td>\n",
       "      <td>25</td>\n",
       "      <td>36</td>\n",
       "      <td>73</td>\n",
       "      <td>-37</td>\n",
       "      <td>25</td>\n",
       "      <td>Relegated</td>\n",
       "    </tr>\n",
       "    <tr>\n",
       "      <th>623</th>\n",
       "      <td>2023</td>\n",
       "      <td>Tottenham</td>\n",
       "      <td>8</td>\n",
       "      <td>38</td>\n",
       "      <td>18</td>\n",
       "      <td>6</td>\n",
       "      <td>14</td>\n",
       "      <td>70</td>\n",
       "      <td>63</td>\n",
       "      <td>7</td>\n",
       "      <td>60</td>\n",
       "      <td>NaN</td>\n",
       "    </tr>\n",
       "    <tr>\n",
       "      <th>624</th>\n",
       "      <td>2023</td>\n",
       "      <td>West Ham</td>\n",
       "      <td>14</td>\n",
       "      <td>38</td>\n",
       "      <td>11</td>\n",
       "      <td>7</td>\n",
       "      <td>20</td>\n",
       "      <td>42</td>\n",
       "      <td>55</td>\n",
       "      <td>-13</td>\n",
       "      <td>40</td>\n",
       "      <td>NaN</td>\n",
       "    </tr>\n",
       "    <tr>\n",
       "      <th>625</th>\n",
       "      <td>2023</td>\n",
       "      <td>Wolves</td>\n",
       "      <td>13</td>\n",
       "      <td>38</td>\n",
       "      <td>11</td>\n",
       "      <td>8</td>\n",
       "      <td>19</td>\n",
       "      <td>31</td>\n",
       "      <td>58</td>\n",
       "      <td>-27</td>\n",
       "      <td>41</td>\n",
       "      <td>NaN</td>\n",
       "    </tr>\n",
       "  </tbody>\n",
       "</table>\n",
       "<p>626 rows × 12 columns</p>\n",
       "</div>"
      ],
      "text/plain": [
       "     Season_End_Year             Team  Rk  MP   W   D   L  GF  GA  GD  Pts   \n",
       "0               1993          Arsenal  10  42  15  11  16  40  38   2   56  \\\n",
       "1               1993      Aston Villa   2  42  21  11  10  57  40  17   74   \n",
       "2               1993        Blackburn   4  42  20  11  11  68  46  22   71   \n",
       "3               1993          Chelsea  11  42  14  14  14  51  54  -3   56   \n",
       "4               1993    Coventry City  15  42  13  13  16  52  57  -5   52   \n",
       "..               ...              ...  ..  ..  ..  ..  ..  ..  ..  ..  ...   \n",
       "621             2023  Nott'ham Forest  16  38   9  11  18  38  68 -30   38   \n",
       "622             2023      Southampton  20  38   6   7  25  36  73 -37   25   \n",
       "623             2023        Tottenham   8  38  18   6  14  70  63   7   60   \n",
       "624             2023         West Ham  14  38  11   7  20  42  55 -13   40   \n",
       "625             2023           Wolves  13  38  11   8  19  31  58 -27   41   \n",
       "\n",
       "                                         Notes  \n",
       "0    → European Cup Winners' Cup via cup win 2  \n",
       "1                 → UEFA Cup via league finish  \n",
       "2                                          NaN  \n",
       "3                                          NaN  \n",
       "4                                          NaN  \n",
       "..                                         ...  \n",
       "621                                        NaN  \n",
       "622                                  Relegated  \n",
       "623                                        NaN  \n",
       "624                                        NaN  \n",
       "625                                        NaN  \n",
       "\n",
       "[626 rows x 12 columns]"
      ]
     },
     "execution_count": 16,
     "metadata": {},
     "output_type": "execute_result"
    }
   ],
   "source": [
    "df_standings = pd.read_csv('premier-league-tables.csv')\n",
    "df_standings"
   ]
  },
  {
   "cell_type": "code",
   "execution_count": 17,
   "metadata": {},
   "outputs": [
    {
     "data": {
      "text/html": [
       "<div>\n",
       "<style scoped>\n",
       "    .dataframe tbody tr th:only-of-type {\n",
       "        vertical-align: middle;\n",
       "    }\n",
       "\n",
       "    .dataframe tbody tr th {\n",
       "        vertical-align: top;\n",
       "    }\n",
       "\n",
       "    .dataframe thead th {\n",
       "        text-align: right;\n",
       "    }\n",
       "</style>\n",
       "<table border=\"1\" class=\"dataframe\">\n",
       "  <thead>\n",
       "    <tr style=\"text-align: right;\">\n",
       "      <th></th>\n",
       "      <th>Season_End_Year</th>\n",
       "      <th>Team</th>\n",
       "      <th>Rk</th>\n",
       "      <th>MP</th>\n",
       "      <th>W</th>\n",
       "      <th>D</th>\n",
       "      <th>L</th>\n",
       "      <th>GF</th>\n",
       "      <th>GA</th>\n",
       "      <th>GD</th>\n",
       "      <th>Pts</th>\n",
       "    </tr>\n",
       "  </thead>\n",
       "  <tbody>\n",
       "    <tr>\n",
       "      <th>356</th>\n",
       "      <td>2010</td>\n",
       "      <td>Liverpool</td>\n",
       "      <td>7</td>\n",
       "      <td>38</td>\n",
       "      <td>18</td>\n",
       "      <td>9</td>\n",
       "      <td>11</td>\n",
       "      <td>61</td>\n",
       "      <td>35</td>\n",
       "      <td>26</td>\n",
       "      <td>63</td>\n",
       "    </tr>\n",
       "    <tr>\n",
       "      <th>375</th>\n",
       "      <td>2011</td>\n",
       "      <td>Liverpool</td>\n",
       "      <td>6</td>\n",
       "      <td>38</td>\n",
       "      <td>17</td>\n",
       "      <td>7</td>\n",
       "      <td>14</td>\n",
       "      <td>59</td>\n",
       "      <td>44</td>\n",
       "      <td>15</td>\n",
       "      <td>58</td>\n",
       "    </tr>\n",
       "    <tr>\n",
       "      <th>393</th>\n",
       "      <td>2012</td>\n",
       "      <td>Liverpool</td>\n",
       "      <td>8</td>\n",
       "      <td>38</td>\n",
       "      <td>14</td>\n",
       "      <td>10</td>\n",
       "      <td>14</td>\n",
       "      <td>47</td>\n",
       "      <td>40</td>\n",
       "      <td>7</td>\n",
       "      <td>52</td>\n",
       "    </tr>\n",
       "    <tr>\n",
       "      <th>411</th>\n",
       "      <td>2013</td>\n",
       "      <td>Liverpool</td>\n",
       "      <td>7</td>\n",
       "      <td>38</td>\n",
       "      <td>16</td>\n",
       "      <td>13</td>\n",
       "      <td>9</td>\n",
       "      <td>71</td>\n",
       "      <td>43</td>\n",
       "      <td>28</td>\n",
       "      <td>61</td>\n",
       "    </tr>\n",
       "    <tr>\n",
       "      <th>434</th>\n",
       "      <td>2014</td>\n",
       "      <td>Liverpool</td>\n",
       "      <td>2</td>\n",
       "      <td>38</td>\n",
       "      <td>26</td>\n",
       "      <td>6</td>\n",
       "      <td>6</td>\n",
       "      <td>101</td>\n",
       "      <td>50</td>\n",
       "      <td>51</td>\n",
       "      <td>84</td>\n",
       "    </tr>\n",
       "    <tr>\n",
       "      <th>454</th>\n",
       "      <td>2015</td>\n",
       "      <td>Liverpool</td>\n",
       "      <td>6</td>\n",
       "      <td>38</td>\n",
       "      <td>18</td>\n",
       "      <td>8</td>\n",
       "      <td>12</td>\n",
       "      <td>52</td>\n",
       "      <td>48</td>\n",
       "      <td>4</td>\n",
       "      <td>62</td>\n",
       "    </tr>\n",
       "  </tbody>\n",
       "</table>\n",
       "</div>"
      ],
      "text/plain": [
       "     Season_End_Year       Team  Rk  MP   W   D   L   GF  GA  GD  Pts\n",
       "356             2010  Liverpool   7  38  18   9  11   61  35  26   63\n",
       "375             2011  Liverpool   6  38  17   7  14   59  44  15   58\n",
       "393             2012  Liverpool   8  38  14  10  14   47  40   7   52\n",
       "411             2013  Liverpool   7  38  16  13   9   71  43  28   61\n",
       "434             2014  Liverpool   2  38  26   6   6  101  50  51   84\n",
       "454             2015  Liverpool   6  38  18   8  12   52  48   4   62"
      ]
     },
     "execution_count": 17,
     "metadata": {},
     "output_type": "execute_result"
    }
   ],
   "source": [
    "# only get Liverpool standings\n",
    "df_liv_standings = df_standings[df_standings['Team'] == 'Liverpool']\n",
    "\n",
    "# only get matches from 2009-08 onwards\n",
    "df_liv_standings_before = df_liv_standings[df_liv_standings['Season_End_Year'] >= 2010]\n",
    "\n",
    "# only get matches up to 2015-06-31\n",
    "df_liv_standings_before = df_liv_standings_before[df_liv_standings_before['Season_End_Year'] <= 2015]\n",
    "\n",
    "# drop Notes\n",
    "df_liv_standings_before = df_liv_standings_before.drop(columns=['Notes'])\n",
    "\n",
    "df_liv_standings_before"
   ]
  },
  {
   "cell_type": "code",
   "execution_count": 18,
   "metadata": {},
   "outputs": [],
   "source": [
    "# export df_liv_standings_before to csv\n",
    "df_liv_standings_before.to_csv('standings_without_klopp.csv', index=False)"
   ]
  },
  {
   "attachments": {},
   "cell_type": "markdown",
   "metadata": {},
   "source": []
  },
  {
   "cell_type": "code",
   "execution_count": 19,
   "metadata": {},
   "outputs": [
    {
     "data": {
      "text/html": [
       "<div>\n",
       "<style scoped>\n",
       "    .dataframe tbody tr th:only-of-type {\n",
       "        vertical-align: middle;\n",
       "    }\n",
       "\n",
       "    .dataframe tbody tr th {\n",
       "        vertical-align: top;\n",
       "    }\n",
       "\n",
       "    .dataframe thead th {\n",
       "        text-align: right;\n",
       "    }\n",
       "</style>\n",
       "<table border=\"1\" class=\"dataframe\">\n",
       "  <thead>\n",
       "    <tr style=\"text-align: right;\">\n",
       "      <th></th>\n",
       "      <th>Season_End_Year</th>\n",
       "      <th>Age</th>\n",
       "      <th>Squad</th>\n",
       "      <th>Country</th>\n",
       "      <th>Comp</th>\n",
       "      <th>LgRank</th>\n",
       "      <th>MP</th>\n",
       "      <th>Starts</th>\n",
       "      <th>Min</th>\n",
       "      <th>90s</th>\n",
       "      <th>...</th>\n",
       "      <th>Ast</th>\n",
       "      <th>G+A.1</th>\n",
       "      <th>G-PK.1</th>\n",
       "      <th>G+A-PK</th>\n",
       "      <th>xG.1</th>\n",
       "      <th>xAG.1</th>\n",
       "      <th>xG+xAG</th>\n",
       "      <th>npxG.1</th>\n",
       "      <th>npxG+xAG.1</th>\n",
       "      <th>Matches</th>\n",
       "    </tr>\n",
       "  </thead>\n",
       "  <tbody>\n",
       "    <tr>\n",
       "      <th>0</th>\n",
       "      <td>2017</td>\n",
       "      <td>17</td>\n",
       "      <td>Liverpool</td>\n",
       "      <td>eng ENG</td>\n",
       "      <td>1. Premier League</td>\n",
       "      <td>4th</td>\n",
       "      <td>7</td>\n",
       "      <td>2</td>\n",
       "      <td>167</td>\n",
       "      <td>1.9</td>\n",
       "      <td>...</td>\n",
       "      <td>0.00</td>\n",
       "      <td>0.00</td>\n",
       "      <td>0.00</td>\n",
       "      <td>0.00</td>\n",
       "      <td>NaN</td>\n",
       "      <td>NaN</td>\n",
       "      <td>NaN</td>\n",
       "      <td>NaN</td>\n",
       "      <td>NaN</td>\n",
       "      <td>Matches</td>\n",
       "    </tr>\n",
       "    <tr>\n",
       "      <th>1</th>\n",
       "      <td>2018</td>\n",
       "      <td>18</td>\n",
       "      <td>Liverpool</td>\n",
       "      <td>eng ENG</td>\n",
       "      <td>1. Premier League</td>\n",
       "      <td>4th</td>\n",
       "      <td>19</td>\n",
       "      <td>18</td>\n",
       "      <td>1,573</td>\n",
       "      <td>17.5</td>\n",
       "      <td>...</td>\n",
       "      <td>0.06</td>\n",
       "      <td>0.11</td>\n",
       "      <td>0.06</td>\n",
       "      <td>0.11</td>\n",
       "      <td>0.05</td>\n",
       "      <td>0.15</td>\n",
       "      <td>0.21</td>\n",
       "      <td>0.05</td>\n",
       "      <td>0.21</td>\n",
       "      <td>Matches</td>\n",
       "    </tr>\n",
       "    <tr>\n",
       "      <th>2</th>\n",
       "      <td>2019</td>\n",
       "      <td>19</td>\n",
       "      <td>Liverpool</td>\n",
       "      <td>eng ENG</td>\n",
       "      <td>1. Premier League</td>\n",
       "      <td>2nd</td>\n",
       "      <td>29</td>\n",
       "      <td>27</td>\n",
       "      <td>2,462</td>\n",
       "      <td>27.4</td>\n",
       "      <td>...</td>\n",
       "      <td>0.44</td>\n",
       "      <td>0.48</td>\n",
       "      <td>0.04</td>\n",
       "      <td>0.48</td>\n",
       "      <td>0.06</td>\n",
       "      <td>0.23</td>\n",
       "      <td>0.29</td>\n",
       "      <td>0.06</td>\n",
       "      <td>0.29</td>\n",
       "      <td>Matches</td>\n",
       "    </tr>\n",
       "    <tr>\n",
       "      <th>3</th>\n",
       "      <td>2020</td>\n",
       "      <td>20</td>\n",
       "      <td>Liverpool</td>\n",
       "      <td>eng ENG</td>\n",
       "      <td>1. Premier League</td>\n",
       "      <td>1st</td>\n",
       "      <td>38</td>\n",
       "      <td>35</td>\n",
       "      <td>3,175</td>\n",
       "      <td>35.3</td>\n",
       "      <td>...</td>\n",
       "      <td>0.37</td>\n",
       "      <td>0.48</td>\n",
       "      <td>0.11</td>\n",
       "      <td>0.48</td>\n",
       "      <td>0.08</td>\n",
       "      <td>0.31</td>\n",
       "      <td>0.39</td>\n",
       "      <td>0.08</td>\n",
       "      <td>0.39</td>\n",
       "      <td>Matches</td>\n",
       "    </tr>\n",
       "    <tr>\n",
       "      <th>4</th>\n",
       "      <td>2021</td>\n",
       "      <td>21</td>\n",
       "      <td>Liverpool</td>\n",
       "      <td>eng ENG</td>\n",
       "      <td>1. Premier League</td>\n",
       "      <td>3rd</td>\n",
       "      <td>36</td>\n",
       "      <td>34</td>\n",
       "      <td>3,031</td>\n",
       "      <td>33.7</td>\n",
       "      <td>...</td>\n",
       "      <td>0.21</td>\n",
       "      <td>0.27</td>\n",
       "      <td>0.06</td>\n",
       "      <td>0.27</td>\n",
       "      <td>0.08</td>\n",
       "      <td>0.26</td>\n",
       "      <td>0.33</td>\n",
       "      <td>0.08</td>\n",
       "      <td>0.33</td>\n",
       "      <td>Matches</td>\n",
       "    </tr>\n",
       "    <tr>\n",
       "      <th>5</th>\n",
       "      <td>2022</td>\n",
       "      <td>22</td>\n",
       "      <td>Liverpool</td>\n",
       "      <td>eng ENG</td>\n",
       "      <td>1. Premier League</td>\n",
       "      <td>2nd</td>\n",
       "      <td>32</td>\n",
       "      <td>32</td>\n",
       "      <td>2,853</td>\n",
       "      <td>31.7</td>\n",
       "      <td>...</td>\n",
       "      <td>0.38</td>\n",
       "      <td>0.44</td>\n",
       "      <td>0.06</td>\n",
       "      <td>0.44</td>\n",
       "      <td>0.07</td>\n",
       "      <td>0.38</td>\n",
       "      <td>0.46</td>\n",
       "      <td>0.07</td>\n",
       "      <td>0.46</td>\n",
       "      <td>Matches</td>\n",
       "    </tr>\n",
       "    <tr>\n",
       "      <th>6</th>\n",
       "      <td>2023</td>\n",
       "      <td>23</td>\n",
       "      <td>Liverpool</td>\n",
       "      <td>eng ENG</td>\n",
       "      <td>1. Premier League</td>\n",
       "      <td>5th</td>\n",
       "      <td>37</td>\n",
       "      <td>34</td>\n",
       "      <td>2,923</td>\n",
       "      <td>32.5</td>\n",
       "      <td>...</td>\n",
       "      <td>0.28</td>\n",
       "      <td>0.34</td>\n",
       "      <td>0.06</td>\n",
       "      <td>0.34</td>\n",
       "      <td>0.07</td>\n",
       "      <td>0.35</td>\n",
       "      <td>0.43</td>\n",
       "      <td>0.07</td>\n",
       "      <td>0.43</td>\n",
       "      <td>Matches</td>\n",
       "    </tr>\n",
       "  </tbody>\n",
       "</table>\n",
       "<p>7 rows × 36 columns</p>\n",
       "</div>"
      ],
      "text/plain": [
       "   Season_End_Year  Age      Squad  Country               Comp LgRank  MP   \n",
       "0             2017   17  Liverpool  eng ENG  1. Premier League    4th   7  \\\n",
       "1             2018   18  Liverpool  eng ENG  1. Premier League    4th  19   \n",
       "2             2019   19  Liverpool  eng ENG  1. Premier League    2nd  29   \n",
       "3             2020   20  Liverpool  eng ENG  1. Premier League    1st  38   \n",
       "4             2021   21  Liverpool  eng ENG  1. Premier League    3rd  36   \n",
       "5             2022   22  Liverpool  eng ENG  1. Premier League    2nd  32   \n",
       "6             2023   23  Liverpool  eng ENG  1. Premier League    5th  37   \n",
       "\n",
       "   Starts    Min   90s  ...   Ast  G+A.1  G-PK.1  G+A-PK  xG.1  xAG.1  xG+xAG   \n",
       "0       2    167   1.9  ...  0.00   0.00    0.00    0.00   NaN    NaN     NaN  \\\n",
       "1      18  1,573  17.5  ...  0.06   0.11    0.06    0.11  0.05   0.15    0.21   \n",
       "2      27  2,462  27.4  ...  0.44   0.48    0.04    0.48  0.06   0.23    0.29   \n",
       "3      35  3,175  35.3  ...  0.37   0.48    0.11    0.48  0.08   0.31    0.39   \n",
       "4      34  3,031  33.7  ...  0.21   0.27    0.06    0.27  0.08   0.26    0.33   \n",
       "5      32  2,853  31.7  ...  0.38   0.44    0.06    0.44  0.07   0.38    0.46   \n",
       "6      34  2,923  32.5  ...  0.28   0.34    0.06    0.34  0.07   0.35    0.43   \n",
       "\n",
       "   npxG.1  npxG+xAG.1  Matches  \n",
       "0     NaN         NaN  Matches  \n",
       "1    0.05        0.21  Matches  \n",
       "2    0.06        0.29  Matches  \n",
       "3    0.08        0.39  Matches  \n",
       "4    0.08        0.33  Matches  \n",
       "5    0.07        0.46  Matches  \n",
       "6    0.07        0.43  Matches  \n",
       "\n",
       "[7 rows x 36 columns]"
      ]
     },
     "execution_count": 19,
     "metadata": {},
     "output_type": "execute_result"
    }
   ],
   "source": [
    "# read salah_stats.xlsx\n",
    "df_trent_stats = pd.read_excel('salah_stats.xlsx', sheet_name='trent_stats')\n",
    "df_trent_stats"
   ]
  },
  {
   "cell_type": "code",
   "execution_count": 44,
   "metadata": {},
   "outputs": [
    {
     "data": {
      "text/html": [
       "<div>\n",
       "<style scoped>\n",
       "    .dataframe tbody tr th:only-of-type {\n",
       "        vertical-align: middle;\n",
       "    }\n",
       "\n",
       "    .dataframe tbody tr th {\n",
       "        vertical-align: top;\n",
       "    }\n",
       "\n",
       "    .dataframe thead th {\n",
       "        text-align: right;\n",
       "    }\n",
       "</style>\n",
       "<table border=\"1\" class=\"dataframe\">\n",
       "  <thead>\n",
       "    <tr style=\"text-align: right;\">\n",
       "      <th></th>\n",
       "      <th>Rank</th>\n",
       "      <th>Name</th>\n",
       "      <th>Club</th>\n",
       "      <th>Nationality</th>\n",
       "      <th>Games</th>\n",
       "      <th>Assists</th>\n",
       "      <th>Goals</th>\n",
       "      <th>Clean Sheets</th>\n",
       "    </tr>\n",
       "  </thead>\n",
       "  <tbody>\n",
       "    <tr>\n",
       "      <th>0</th>\n",
       "      <td>1</td>\n",
       "      <td>Ashley Young</td>\n",
       "      <td>Everton</td>\n",
       "      <td>England</td>\n",
       "      <td>427</td>\n",
       "      <td>71</td>\n",
       "      <td>49</td>\n",
       "      <td>88</td>\n",
       "    </tr>\n",
       "    <tr>\n",
       "      <th>1</th>\n",
       "      <td>2</td>\n",
       "      <td>Andy Robertson</td>\n",
       "      <td>Liverpool</td>\n",
       "      <td>Scotland</td>\n",
       "      <td>257</td>\n",
       "      <td>57</td>\n",
       "      <td>9</td>\n",
       "      <td>77</td>\n",
       "    </tr>\n",
       "    <tr>\n",
       "      <th>2</th>\n",
       "      <td>3</td>\n",
       "      <td>Trent Alexander-Arnold</td>\n",
       "      <td>Liverpool</td>\n",
       "      <td>England</td>\n",
       "      <td>202</td>\n",
       "      <td>55</td>\n",
       "      <td>12</td>\n",
       "      <td>64</td>\n",
       "    </tr>\n",
       "    <tr>\n",
       "      <th>3</th>\n",
       "      <td>4</td>\n",
       "      <td>Leighton Baines</td>\n",
       "      <td>Everton</td>\n",
       "      <td>England</td>\n",
       "      <td>420</td>\n",
       "      <td>53</td>\n",
       "      <td>32</td>\n",
       "      <td>113</td>\n",
       "    </tr>\n",
       "    <tr>\n",
       "      <th>4</th>\n",
       "      <td>5</td>\n",
       "      <td>Antonio Valencia</td>\n",
       "      <td>Manchester United</td>\n",
       "      <td>Ecuador</td>\n",
       "      <td>325</td>\n",
       "      <td>46</td>\n",
       "      <td>24</td>\n",
       "      <td>105</td>\n",
       "    </tr>\n",
       "    <tr>\n",
       "      <th>5</th>\n",
       "      <td>6</td>\n",
       "      <td>Graeme Le Saux</td>\n",
       "      <td>-</td>\n",
       "      <td>England</td>\n",
       "      <td>327</td>\n",
       "      <td>44</td>\n",
       "      <td>12</td>\n",
       "      <td>92</td>\n",
       "    </tr>\n",
       "    <tr>\n",
       "      <th>6</th>\n",
       "      <td>7</td>\n",
       "      <td>Ian Harte</td>\n",
       "      <td>Bournemouth</td>\n",
       "      <td>Ireland</td>\n",
       "      <td>237</td>\n",
       "      <td>36</td>\n",
       "      <td>28</td>\n",
       "      <td>67</td>\n",
       "    </tr>\n",
       "    <tr>\n",
       "      <th>7</th>\n",
       "      <td>7</td>\n",
       "      <td>Andy Hinchcliffe</td>\n",
       "      <td>-</td>\n",
       "      <td>England</td>\n",
       "      <td>219</td>\n",
       "      <td>36</td>\n",
       "      <td>11</td>\n",
       "      <td>57</td>\n",
       "    </tr>\n",
       "    <tr>\n",
       "      <th>8</th>\n",
       "      <td>9</td>\n",
       "      <td>César Azpilicueta</td>\n",
       "      <td>Atlético Madrid</td>\n",
       "      <td>Spain</td>\n",
       "      <td>349</td>\n",
       "      <td>35</td>\n",
       "      <td>10</td>\n",
       "      <td>115</td>\n",
       "    </tr>\n",
       "    <tr>\n",
       "      <th>9</th>\n",
       "      <td>9</td>\n",
       "      <td>Gary Neville</td>\n",
       "      <td>Manchester United</td>\n",
       "      <td>England</td>\n",
       "      <td>400</td>\n",
       "      <td>35</td>\n",
       "      <td>5</td>\n",
       "      <td>148</td>\n",
       "    </tr>\n",
       "    <tr>\n",
       "      <th>10</th>\n",
       "      <td>11</td>\n",
       "      <td>Dan Patrescu</td>\n",
       "      <td>-</td>\n",
       "      <td>Romania</td>\n",
       "      <td>215</td>\n",
       "      <td>33</td>\n",
       "      <td>23</td>\n",
       "      <td>42</td>\n",
       "    </tr>\n",
       "    <tr>\n",
       "      <th>11</th>\n",
       "      <td>12</td>\n",
       "      <td>Kyle Walker</td>\n",
       "      <td>Manchester City</td>\n",
       "      <td>England</td>\n",
       "      <td>368</td>\n",
       "      <td>32</td>\n",
       "      <td>8</td>\n",
       "      <td>125</td>\n",
       "    </tr>\n",
       "    <tr>\n",
       "      <th>12</th>\n",
       "      <td>13</td>\n",
       "      <td>Ashley Cole</td>\n",
       "      <td>Derby County</td>\n",
       "      <td>England</td>\n",
       "      <td>385</td>\n",
       "      <td>31</td>\n",
       "      <td>15</td>\n",
       "      <td>148</td>\n",
       "    </tr>\n",
       "    <tr>\n",
       "      <th>13</th>\n",
       "      <td>13</td>\n",
       "      <td>Garry Kelly</td>\n",
       "      <td>-</td>\n",
       "      <td>Ireland</td>\n",
       "      <td>325</td>\n",
       "      <td>31</td>\n",
       "      <td>2</td>\n",
       "      <td>103</td>\n",
       "    </tr>\n",
       "    <tr>\n",
       "      <th>14</th>\n",
       "      <td>15</td>\n",
       "      <td>Aaron Cresswell</td>\n",
       "      <td>West Ham</td>\n",
       "      <td>England</td>\n",
       "      <td>283</td>\n",
       "      <td>30</td>\n",
       "      <td>10</td>\n",
       "      <td>63</td>\n",
       "    </tr>\n",
       "  </tbody>\n",
       "</table>\n",
       "</div>"
      ],
      "text/plain": [
       "    Rank                    Name               Club Nationality  Games   \n",
       "0      1            Ashley Young            Everton     England    427  \\\n",
       "1      2          Andy Robertson          Liverpool    Scotland    257   \n",
       "2      3  Trent Alexander-Arnold          Liverpool     England    202   \n",
       "3      4         Leighton Baines            Everton     England    420   \n",
       "4      5        Antonio Valencia  Manchester United     Ecuador    325   \n",
       "5      6          Graeme Le Saux                  -     England    327   \n",
       "6      7               Ian Harte        Bournemouth     Ireland    237   \n",
       "7      7        Andy Hinchcliffe                  -     England    219   \n",
       "8      9       César Azpilicueta    Atlético Madrid       Spain    349   \n",
       "9      9            Gary Neville  Manchester United     England    400   \n",
       "10    11            Dan Patrescu                  -     Romania    215   \n",
       "11    12             Kyle Walker    Manchester City     England    368   \n",
       "12    13             Ashley Cole       Derby County     England    385   \n",
       "13    13             Garry Kelly                  -     Ireland    325   \n",
       "14    15         Aaron Cresswell           West Ham     England    283   \n",
       "\n",
       "    Assists  Goals  Clean Sheets  \n",
       "0        71     49            88  \n",
       "1        57      9            77  \n",
       "2        55     12            64  \n",
       "3        53     32           113  \n",
       "4        46     24           105  \n",
       "5        44     12            92  \n",
       "6        36     28            67  \n",
       "7        36     11            57  \n",
       "8        35     10           115  \n",
       "9        35      5           148  \n",
       "10       33     23            42  \n",
       "11       32      8           125  \n",
       "12       31     15           148  \n",
       "13       31      2           103  \n",
       "14       30     10            63  "
      ]
     },
     "execution_count": 44,
     "metadata": {},
     "output_type": "execute_result"
    }
   ],
   "source": [
    "import plotly.graph_objects as go\n",
    "\n",
    "# all time top assisting defenders\n",
    "df_defenders = pd.read_excel(\"defender_assists.xlsx\")\n",
    "df_defenders"
   ]
  },
  {
   "cell_type": "code",
   "execution_count": 42,
   "metadata": {},
   "outputs": [
    {
     "data": {
      "application/vnd.plotly.v1+json": {
       "config": {
        "plotlyServerURL": "https://plot.ly"
       },
       "data": [
        {
         "marker": {
          "color": "blue",
          "opacity": 0.6,
          "size": [
           42.7
          ],
          "sizemode": "diameter"
         },
         "mode": "markers",
         "name": "Ashley Young",
         "text": "Ashley Young",
         "type": "scatter",
         "x": [
          71
         ],
         "y": [
          49
         ]
        },
        {
         "marker": {
          "color": "blue",
          "opacity": 0.6,
          "size": [
           25.7
          ],
          "sizemode": "diameter"
         },
         "mode": "markers",
         "name": "Andy Robertson",
         "text": "Andy Robertson",
         "type": "scatter",
         "x": [
          57
         ],
         "y": [
          9
         ]
        },
        {
         "marker": {
          "color": "red",
          "line": {
           "color": "Black",
           "width": 1
          },
          "opacity": 0.6,
          "size": [
           20.2
          ],
          "sizemode": "diameter"
         },
         "mode": "markers",
         "name": "Trent Alexander-Arnold",
         "text": "Trent Alexander-Arnold",
         "type": "scatter",
         "x": [
          55
         ],
         "y": [
          12
         ]
        },
        {
         "marker": {
          "color": "blue",
          "opacity": 0.6,
          "size": [
           42
          ],
          "sizemode": "diameter"
         },
         "mode": "markers",
         "name": "Leighton Baines",
         "text": "Leighton Baines",
         "type": "scatter",
         "x": [
          53
         ],
         "y": [
          32
         ]
        },
        {
         "marker": {
          "color": "blue",
          "opacity": 0.6,
          "size": [
           32.5
          ],
          "sizemode": "diameter"
         },
         "mode": "markers",
         "name": "Antonio Valencia",
         "text": "Antonio Valencia",
         "type": "scatter",
         "x": [
          46
         ],
         "y": [
          24
         ]
        },
        {
         "marker": {
          "color": "blue",
          "opacity": 0.6,
          "size": [
           32.7
          ],
          "sizemode": "diameter"
         },
         "mode": "markers",
         "name": "Graeme Le Saux",
         "text": "Graeme Le Saux",
         "type": "scatter",
         "x": [
          44
         ],
         "y": [
          12
         ]
        },
        {
         "marker": {
          "color": "blue",
          "opacity": 0.6,
          "size": [
           23.7
          ],
          "sizemode": "diameter"
         },
         "mode": "markers",
         "name": "Ian Harte",
         "text": "Ian Harte",
         "type": "scatter",
         "x": [
          36
         ],
         "y": [
          28
         ]
        },
        {
         "marker": {
          "color": "blue",
          "opacity": 0.6,
          "size": [
           21.9
          ],
          "sizemode": "diameter"
         },
         "mode": "markers",
         "name": "Andy Hinchcliffe",
         "text": "Andy Hinchcliffe",
         "type": "scatter",
         "x": [
          36
         ],
         "y": [
          11
         ]
        },
        {
         "marker": {
          "color": "blue",
          "opacity": 0.6,
          "size": [
           34.9
          ],
          "sizemode": "diameter"
         },
         "mode": "markers",
         "name": "César Azpilicueta",
         "text": "César Azpilicueta",
         "type": "scatter",
         "x": [
          35
         ],
         "y": [
          10
         ]
        },
        {
         "marker": {
          "color": "blue",
          "opacity": 0.6,
          "size": [
           40
          ],
          "sizemode": "diameter"
         },
         "mode": "markers",
         "name": "Gary Neville",
         "text": "Gary Neville",
         "type": "scatter",
         "x": [
          35
         ],
         "y": [
          5
         ]
        },
        {
         "marker": {
          "color": "blue",
          "opacity": 0.6,
          "size": [
           21.5
          ],
          "sizemode": "diameter"
         },
         "mode": "markers",
         "name": "Dan Patrescu",
         "text": "Dan Patrescu",
         "type": "scatter",
         "x": [
          33
         ],
         "y": [
          23
         ]
        },
        {
         "marker": {
          "color": "blue",
          "opacity": 0.6,
          "size": [
           36.8
          ],
          "sizemode": "diameter"
         },
         "mode": "markers",
         "name": "Kyle Walker",
         "text": "Kyle Walker",
         "type": "scatter",
         "x": [
          32
         ],
         "y": [
          8
         ]
        },
        {
         "marker": {
          "color": "blue",
          "opacity": 0.6,
          "size": [
           38.5
          ],
          "sizemode": "diameter"
         },
         "mode": "markers",
         "name": "Ashley Cole",
         "text": "Ashley Cole",
         "type": "scatter",
         "x": [
          31
         ],
         "y": [
          15
         ]
        },
        {
         "marker": {
          "color": "blue",
          "opacity": 0.6,
          "size": [
           32.5
          ],
          "sizemode": "diameter"
         },
         "mode": "markers",
         "name": "Garry Kelly",
         "text": "Garry Kelly",
         "type": "scatter",
         "x": [
          31
         ],
         "y": [
          2
         ]
        },
        {
         "marker": {
          "color": "blue",
          "opacity": 0.6,
          "size": [
           28.3
          ],
          "sizemode": "diameter"
         },
         "mode": "markers",
         "name": "Aaron Cresswell",
         "text": "Aaron Cresswell",
         "type": "scatter",
         "x": [
          30
         ],
         "y": [
          10
         ]
        }
       ],
       "layout": {
        "legend": {
         "title": {
          "text": "Players"
         }
        },
        "showlegend": false,
        "template": {
         "data": {
          "candlestick": [
           {
            "decreasing": {
             "line": {
              "color": "#000033"
             }
            },
            "increasing": {
             "line": {
              "color": "#000032"
             }
            },
            "type": "candlestick"
           }
          ],
          "contour": [
           {
            "colorscale": [
             [
              0,
              "#000011"
             ],
             [
              0.1111111111111111,
              "#000012"
             ],
             [
              0.2222222222222222,
              "#000013"
             ],
             [
              0.3333333333333333,
              "#000014"
             ],
             [
              0.4444444444444444,
              "#000015"
             ],
             [
              0.5555555555555556,
              "#000016"
             ],
             [
              0.6666666666666666,
              "#000017"
             ],
             [
              0.7777777777777778,
              "#000018"
             ],
             [
              0.8888888888888888,
              "#000019"
             ],
             [
              1,
              "#000020"
             ]
            ],
            "type": "contour"
           }
          ],
          "contourcarpet": [
           {
            "colorscale": [
             [
              0,
              "#000011"
             ],
             [
              0.1111111111111111,
              "#000012"
             ],
             [
              0.2222222222222222,
              "#000013"
             ],
             [
              0.3333333333333333,
              "#000014"
             ],
             [
              0.4444444444444444,
              "#000015"
             ],
             [
              0.5555555555555556,
              "#000016"
             ],
             [
              0.6666666666666666,
              "#000017"
             ],
             [
              0.7777777777777778,
              "#000018"
             ],
             [
              0.8888888888888888,
              "#000019"
             ],
             [
              1,
              "#000020"
             ]
            ],
            "type": "contourcarpet"
           }
          ],
          "heatmap": [
           {
            "colorscale": [
             [
              0,
              "#000011"
             ],
             [
              0.1111111111111111,
              "#000012"
             ],
             [
              0.2222222222222222,
              "#000013"
             ],
             [
              0.3333333333333333,
              "#000014"
             ],
             [
              0.4444444444444444,
              "#000015"
             ],
             [
              0.5555555555555556,
              "#000016"
             ],
             [
              0.6666666666666666,
              "#000017"
             ],
             [
              0.7777777777777778,
              "#000018"
             ],
             [
              0.8888888888888888,
              "#000019"
             ],
             [
              1,
              "#000020"
             ]
            ],
            "type": "heatmap"
           }
          ],
          "histogram2d": [
           {
            "colorscale": [
             [
              0,
              "#000011"
             ],
             [
              0.1111111111111111,
              "#000012"
             ],
             [
              0.2222222222222222,
              "#000013"
             ],
             [
              0.3333333333333333,
              "#000014"
             ],
             [
              0.4444444444444444,
              "#000015"
             ],
             [
              0.5555555555555556,
              "#000016"
             ],
             [
              0.6666666666666666,
              "#000017"
             ],
             [
              0.7777777777777778,
              "#000018"
             ],
             [
              0.8888888888888888,
              "#000019"
             ],
             [
              1,
              "#000020"
             ]
            ],
            "type": "histogram2d"
           }
          ],
          "icicle": [
           {
            "textfont": {
             "color": "white"
            },
            "type": "icicle"
           }
          ],
          "sankey": [
           {
            "textfont": {
             "color": "#000036"
            },
            "type": "sankey"
           }
          ],
          "scatter": [
           {
            "marker": {
             "line": {
              "width": 0
             }
            },
            "type": "scatter"
           }
          ],
          "table": [
           {
            "cells": {
             "fill": {
              "color": "#000038"
             },
             "font": {
              "color": "#000037"
             },
             "line": {
              "color": "#000039"
             }
            },
            "header": {
             "fill": {
              "color": "#000040"
             },
             "font": {
              "color": "#000036"
             },
             "line": {
              "color": "#000039"
             }
            },
            "type": "table"
           }
          ],
          "waterfall": [
           {
            "connector": {
             "line": {
              "color": "#000036",
              "width": 2
             }
            },
            "decreasing": {
             "marker": {
              "color": "#000033"
             }
            },
            "increasing": {
             "marker": {
              "color": "#000032"
             }
            },
            "totals": {
             "marker": {
              "color": "#000034"
             }
            },
            "type": "waterfall"
           }
          ]
         },
         "layout": {
          "coloraxis": {
           "colorscale": [
            [
             0,
             "#000011"
            ],
            [
             0.1111111111111111,
             "#000012"
            ],
            [
             0.2222222222222222,
             "#000013"
            ],
            [
             0.3333333333333333,
             "#000014"
            ],
            [
             0.4444444444444444,
             "#000015"
            ],
            [
             0.5555555555555556,
             "#000016"
            ],
            [
             0.6666666666666666,
             "#000017"
            ],
            [
             0.7777777777777778,
             "#000018"
            ],
            [
             0.8888888888888888,
             "#000019"
            ],
            [
             1,
             "#000020"
            ]
           ]
          },
          "colorscale": {
           "diverging": [
            [
             0,
             "#000021"
            ],
            [
             0.1,
             "#000022"
            ],
            [
             0.2,
             "#000023"
            ],
            [
             0.3,
             "#000024"
            ],
            [
             0.4,
             "#000025"
            ],
            [
             0.5,
             "#000026"
            ],
            [
             0.6,
             "#000027"
            ],
            [
             0.7,
             "#000028"
            ],
            [
             0.8,
             "#000029"
            ],
            [
             0.9,
             "#000030"
            ],
            [
             1,
             "#000031"
            ]
           ],
           "sequential": [
            [
             0,
             "#000011"
            ],
            [
             0.1111111111111111,
             "#000012"
            ],
            [
             0.2222222222222222,
             "#000013"
            ],
            [
             0.3333333333333333,
             "#000014"
            ],
            [
             0.4444444444444444,
             "#000015"
            ],
            [
             0.5555555555555556,
             "#000016"
            ],
            [
             0.6666666666666666,
             "#000017"
            ],
            [
             0.7777777777777778,
             "#000018"
            ],
            [
             0.8888888888888888,
             "#000019"
            ],
            [
             1,
             "#000020"
            ]
           ],
           "sequentialminus": [
            [
             0,
             "#000011"
            ],
            [
             0.1111111111111111,
             "#000012"
            ],
            [
             0.2222222222222222,
             "#000013"
            ],
            [
             0.3333333333333333,
             "#000014"
            ],
            [
             0.4444444444444444,
             "#000015"
            ],
            [
             0.5555555555555556,
             "#000016"
            ],
            [
             0.6666666666666666,
             "#000017"
            ],
            [
             0.7777777777777778,
             "#000018"
            ],
            [
             0.8888888888888888,
             "#000019"
            ],
            [
             1,
             "#000020"
            ]
           ]
          },
          "colorway": [
           "#000001",
           "#000002",
           "#000003",
           "#000004",
           "#000005",
           "#000006",
           "#000007",
           "#000008",
           "#000009",
           "#000010"
          ]
         }
        },
        "title": {
         "text": "Alltime Top Assisting Defenders"
        },
        "xaxis": {
         "title": {
          "text": "Assists"
         }
        },
        "yaxis": {
         "title": {
          "text": "Goals"
         }
        }
       }
      }
     },
     "metadata": {},
     "output_type": "display_data"
    }
   ],
   "source": [
    "# scatterplot assists vs goals, bubble size = games\n",
    "import plotly.graph_objects as go\n",
    "\n",
    "# Create scatter plot\n",
    "figg = go.Figure()\n",
    "\n",
    "# Add data for each player\n",
    "for i in range(len(df_defenders[\"Name\"])):\n",
    "    if df_defenders[\"Name\"][i] == \"Trent Alexander-Arnold\":\n",
    "        figg.add_trace(go.Scatter(x=[df_defenders[\"Assists\"][i]], y=[df_defenders[\"Goals\"][i]], mode='markers', name=df_defenders[\"Name\"][i], \n",
    "                                 marker=dict(size=[df_defenders[\"Games\"][i]/10], color='red', sizemode='diameter', opacity=0.6, line=dict(color='Black', width=1)),\n",
    "                                 text=df_defenders[\"Name\"][i]))\n",
    "    else:\n",
    "        figg.add_trace(go.Scatter(x=[df_defenders[\"Assists\"][i]], y=[df_defenders[\"Goals\"][i]], mode='markers', name=df_defenders[\"Name\"][i],\n",
    "                                 marker=dict(size=[df_defenders[\"Games\"][i]/10], color='blue', sizemode='diameter', opacity=0.6),\n",
    "                                 text=df_defenders[\"Name\"][i]))\n",
    "\n",
    "# Update layout for better visualization\n",
    "figg.update_layout(\n",
    "    title=\"Alltime Top Assisting Defenders\",\n",
    "    xaxis_title=\"Assists\",\n",
    "    yaxis_title=\"Goals\",\n",
    "    legend_title=\"Players\",\n",
    "    showlegend=False\n",
    ")\n",
    "\n",
    "# Show the plot\n",
    "figg.show()\n"
   ]
  },
  {
   "cell_type": "code",
   "execution_count": 45,
   "metadata": {},
   "outputs": [
    {
     "data": {
      "text/html": [
       "<div>\n",
       "<style scoped>\n",
       "    .dataframe tbody tr th:only-of-type {\n",
       "        vertical-align: middle;\n",
       "    }\n",
       "\n",
       "    .dataframe tbody tr th {\n",
       "        vertical-align: top;\n",
       "    }\n",
       "\n",
       "    .dataframe thead th {\n",
       "        text-align: right;\n",
       "    }\n",
       "</style>\n",
       "<table border=\"1\" class=\"dataframe\">\n",
       "  <thead>\n",
       "    <tr style=\"text-align: right;\">\n",
       "      <th></th>\n",
       "      <th>Club</th>\n",
       "      <th>Transfer expenditure (mil. eur)</th>\n",
       "      <th>Transfer income (mil. eur)</th>\n",
       "      <th>Net spend (mil. eur)</th>\n",
       "      <th>Trophies</th>\n",
       "      <th>Net spend per trophy (mil. eur)</th>\n",
       "    </tr>\n",
       "  </thead>\n",
       "  <tbody>\n",
       "    <tr>\n",
       "      <th>0</th>\n",
       "      <td>Manchester United</td>\n",
       "      <td>1790</td>\n",
       "      <td>465.74</td>\n",
       "      <td>1324.26</td>\n",
       "      <td>4</td>\n",
       "      <td>331.065000</td>\n",
       "    </tr>\n",
       "    <tr>\n",
       "      <th>1</th>\n",
       "      <td>Arsenal</td>\n",
       "      <td>1380</td>\n",
       "      <td>386.05</td>\n",
       "      <td>993.95</td>\n",
       "      <td>4</td>\n",
       "      <td>248.487500</td>\n",
       "    </tr>\n",
       "    <tr>\n",
       "      <th>2</th>\n",
       "      <td>Chelsea</td>\n",
       "      <td>2370</td>\n",
       "      <td>1380.00</td>\n",
       "      <td>990.00</td>\n",
       "      <td>8</td>\n",
       "      <td>123.750000</td>\n",
       "    </tr>\n",
       "    <tr>\n",
       "      <th>3</th>\n",
       "      <td>Liverpool</td>\n",
       "      <td>1220</td>\n",
       "      <td>769.67</td>\n",
       "      <td>450.33</td>\n",
       "      <td>6</td>\n",
       "      <td>75.055000</td>\n",
       "    </tr>\n",
       "    <tr>\n",
       "      <th>4</th>\n",
       "      <td>Manchester City</td>\n",
       "      <td>1790</td>\n",
       "      <td>724.30</td>\n",
       "      <td>1065.70</td>\n",
       "      <td>15</td>\n",
       "      <td>71.046667</td>\n",
       "    </tr>\n",
       "    <tr>\n",
       "      <th>5</th>\n",
       "      <td>Tottenham</td>\n",
       "      <td>1170</td>\n",
       "      <td>694.02</td>\n",
       "      <td>475.98</td>\n",
       "      <td>0</td>\n",
       "      <td>NaN</td>\n",
       "    </tr>\n",
       "  </tbody>\n",
       "</table>\n",
       "</div>"
      ],
      "text/plain": [
       "                Club  Transfer expenditure (mil. eur)   \n",
       "0  Manchester United                             1790  \\\n",
       "1            Arsenal                             1380   \n",
       "2            Chelsea                             2370   \n",
       "3          Liverpool                             1220   \n",
       "4    Manchester City                             1790   \n",
       "5          Tottenham                             1170   \n",
       "\n",
       "   Transfer income (mil. eur)  Net spend (mil. eur)  Trophies   \n",
       "0                      465.74               1324.26         4  \\\n",
       "1                      386.05                993.95         4   \n",
       "2                     1380.00                990.00         8   \n",
       "3                      769.67                450.33         6   \n",
       "4                      724.30               1065.70        15   \n",
       "5                      694.02                475.98         0   \n",
       "\n",
       "   Net spend per trophy (mil. eur)  \n",
       "0                       331.065000  \n",
       "1                       248.487500  \n",
       "2                       123.750000  \n",
       "3                        75.055000  \n",
       "4                        71.046667  \n",
       "5                              NaN  "
      ]
     },
     "execution_count": 45,
     "metadata": {},
     "output_type": "execute_result"
    }
   ],
   "source": [
    "# read net spend\n",
    "df_net_spend = pd.read_excel(\"net_spend.xlsx\")\n",
    "df_net_spend"
   ]
  },
  {
   "cell_type": "code",
   "execution_count": 49,
   "metadata": {},
   "outputs": [
    {
     "data": {
      "application/vnd.plotly.v1+json": {
       "config": {
        "plotlyServerURL": "https://plot.ly"
       },
       "data": [
        {
         "marker": {
          "color": "#1A9E8E"
         },
         "name": "Net Spend (mil. eur)",
         "type": "bar",
         "x": [
          "Manchester United",
          "Arsenal",
          "Chelsea",
          "Liverpool",
          "Manchester City",
          "Tottenham"
         ],
         "y": [
          1324.26,
          993.95,
          990,
          450.33000000000004,
          1065.7,
          475.98
         ]
        },
        {
         "line": {
          "color": "#2E2E3A",
          "width": 2
         },
         "mode": "lines+markers",
         "name": "Trophies",
         "type": "scatter",
         "x": [
          "Manchester United",
          "Arsenal",
          "Chelsea",
          "Liverpool",
          "Manchester City",
          "Tottenham"
         ],
         "y": [
          4,
          4,
          8,
          6,
          15,
          0
         ],
         "yaxis": "y2"
        },
        {
         "marker": {
          "color": "#FF6B6B"
         },
         "name": "Net Spend per Trophy (mil. eur)",
         "type": "bar",
         "x": [
          "Manchester United",
          "Arsenal",
          "Chelsea",
          "Liverpool",
          "Manchester City",
          "Tottenham"
         ],
         "y": [
          331.065,
          248.4875,
          123.75,
          75.055,
          71.04666666666667,
          null
         ]
        }
       ],
       "layout": {
        "barmode": "group",
        "template": {
         "data": {
          "candlestick": [
           {
            "decreasing": {
             "line": {
              "color": "#000033"
             }
            },
            "increasing": {
             "line": {
              "color": "#000032"
             }
            },
            "type": "candlestick"
           }
          ],
          "contour": [
           {
            "colorscale": [
             [
              0,
              "#000011"
             ],
             [
              0.1111111111111111,
              "#000012"
             ],
             [
              0.2222222222222222,
              "#000013"
             ],
             [
              0.3333333333333333,
              "#000014"
             ],
             [
              0.4444444444444444,
              "#000015"
             ],
             [
              0.5555555555555556,
              "#000016"
             ],
             [
              0.6666666666666666,
              "#000017"
             ],
             [
              0.7777777777777778,
              "#000018"
             ],
             [
              0.8888888888888888,
              "#000019"
             ],
             [
              1,
              "#000020"
             ]
            ],
            "type": "contour"
           }
          ],
          "contourcarpet": [
           {
            "colorscale": [
             [
              0,
              "#000011"
             ],
             [
              0.1111111111111111,
              "#000012"
             ],
             [
              0.2222222222222222,
              "#000013"
             ],
             [
              0.3333333333333333,
              "#000014"
             ],
             [
              0.4444444444444444,
              "#000015"
             ],
             [
              0.5555555555555556,
              "#000016"
             ],
             [
              0.6666666666666666,
              "#000017"
             ],
             [
              0.7777777777777778,
              "#000018"
             ],
             [
              0.8888888888888888,
              "#000019"
             ],
             [
              1,
              "#000020"
             ]
            ],
            "type": "contourcarpet"
           }
          ],
          "heatmap": [
           {
            "colorscale": [
             [
              0,
              "#000011"
             ],
             [
              0.1111111111111111,
              "#000012"
             ],
             [
              0.2222222222222222,
              "#000013"
             ],
             [
              0.3333333333333333,
              "#000014"
             ],
             [
              0.4444444444444444,
              "#000015"
             ],
             [
              0.5555555555555556,
              "#000016"
             ],
             [
              0.6666666666666666,
              "#000017"
             ],
             [
              0.7777777777777778,
              "#000018"
             ],
             [
              0.8888888888888888,
              "#000019"
             ],
             [
              1,
              "#000020"
             ]
            ],
            "type": "heatmap"
           }
          ],
          "histogram2d": [
           {
            "colorscale": [
             [
              0,
              "#000011"
             ],
             [
              0.1111111111111111,
              "#000012"
             ],
             [
              0.2222222222222222,
              "#000013"
             ],
             [
              0.3333333333333333,
              "#000014"
             ],
             [
              0.4444444444444444,
              "#000015"
             ],
             [
              0.5555555555555556,
              "#000016"
             ],
             [
              0.6666666666666666,
              "#000017"
             ],
             [
              0.7777777777777778,
              "#000018"
             ],
             [
              0.8888888888888888,
              "#000019"
             ],
             [
              1,
              "#000020"
             ]
            ],
            "type": "histogram2d"
           }
          ],
          "icicle": [
           {
            "textfont": {
             "color": "white"
            },
            "type": "icicle"
           }
          ],
          "sankey": [
           {
            "textfont": {
             "color": "#000036"
            },
            "type": "sankey"
           }
          ],
          "scatter": [
           {
            "marker": {
             "line": {
              "width": 0
             }
            },
            "type": "scatter"
           }
          ],
          "table": [
           {
            "cells": {
             "fill": {
              "color": "#000038"
             },
             "font": {
              "color": "#000037"
             },
             "line": {
              "color": "#000039"
             }
            },
            "header": {
             "fill": {
              "color": "#000040"
             },
             "font": {
              "color": "#000036"
             },
             "line": {
              "color": "#000039"
             }
            },
            "type": "table"
           }
          ],
          "waterfall": [
           {
            "connector": {
             "line": {
              "color": "#000036",
              "width": 2
             }
            },
            "decreasing": {
             "marker": {
              "color": "#000033"
             }
            },
            "increasing": {
             "marker": {
              "color": "#000032"
             }
            },
            "totals": {
             "marker": {
              "color": "#000034"
             }
            },
            "type": "waterfall"
           }
          ]
         },
         "layout": {
          "coloraxis": {
           "colorscale": [
            [
             0,
             "#000011"
            ],
            [
             0.1111111111111111,
             "#000012"
            ],
            [
             0.2222222222222222,
             "#000013"
            ],
            [
             0.3333333333333333,
             "#000014"
            ],
            [
             0.4444444444444444,
             "#000015"
            ],
            [
             0.5555555555555556,
             "#000016"
            ],
            [
             0.6666666666666666,
             "#000017"
            ],
            [
             0.7777777777777778,
             "#000018"
            ],
            [
             0.8888888888888888,
             "#000019"
            ],
            [
             1,
             "#000020"
            ]
           ]
          },
          "colorscale": {
           "diverging": [
            [
             0,
             "#000021"
            ],
            [
             0.1,
             "#000022"
            ],
            [
             0.2,
             "#000023"
            ],
            [
             0.3,
             "#000024"
            ],
            [
             0.4,
             "#000025"
            ],
            [
             0.5,
             "#000026"
            ],
            [
             0.6,
             "#000027"
            ],
            [
             0.7,
             "#000028"
            ],
            [
             0.8,
             "#000029"
            ],
            [
             0.9,
             "#000030"
            ],
            [
             1,
             "#000031"
            ]
           ],
           "sequential": [
            [
             0,
             "#000011"
            ],
            [
             0.1111111111111111,
             "#000012"
            ],
            [
             0.2222222222222222,
             "#000013"
            ],
            [
             0.3333333333333333,
             "#000014"
            ],
            [
             0.4444444444444444,
             "#000015"
            ],
            [
             0.5555555555555556,
             "#000016"
            ],
            [
             0.6666666666666666,
             "#000017"
            ],
            [
             0.7777777777777778,
             "#000018"
            ],
            [
             0.8888888888888888,
             "#000019"
            ],
            [
             1,
             "#000020"
            ]
           ],
           "sequentialminus": [
            [
             0,
             "#000011"
            ],
            [
             0.1111111111111111,
             "#000012"
            ],
            [
             0.2222222222222222,
             "#000013"
            ],
            [
             0.3333333333333333,
             "#000014"
            ],
            [
             0.4444444444444444,
             "#000015"
            ],
            [
             0.5555555555555556,
             "#000016"
            ],
            [
             0.6666666666666666,
             "#000017"
            ],
            [
             0.7777777777777778,
             "#000018"
            ],
            [
             0.8888888888888888,
             "#000019"
            ],
            [
             1,
             "#000020"
            ]
           ]
          },
          "colorway": [
           "#000001",
           "#000002",
           "#000003",
           "#000004",
           "#000005",
           "#000006",
           "#000007",
           "#000008",
           "#000009",
           "#000010"
          ]
         }
        },
        "title": {
         "text": "Club's Net Spend, Trophies, and Efficiency (2013 - 2023)"
        },
        "xaxis": {
         "title": {
          "text": "Club"
         }
        },
        "yaxis": {
         "title": {
          "text": "Net Spend (mil. eur)"
         }
        },
        "yaxis2": {
         "overlaying": "y",
         "side": "right",
         "title": {
          "text": "Trophies"
         }
        }
       }
      }
     },
     "metadata": {},
     "output_type": "display_data"
    }
   ],
   "source": [
    "# Create figure\n",
    "fig = go.Figure()\n",
    "\n",
    "# Add bar chart for net spend\n",
    "fig.add_trace(go.Bar(x=df_net_spend[\"Club\"], y=df_net_spend[\"Net spend (mil. eur)\"], name='Net Spend (mil. eur)', marker_color='#1A9E8E'))\n",
    "\n",
    "# Add line chart for trophies\n",
    "fig.add_trace(go.Scatter(x=df_net_spend[\"Club\"], y=df_net_spend[\"Trophies\"], mode='lines+markers', name='Trophies', yaxis='y2', line=dict(color='#2E2E3A', width=2)))\n",
    "\n",
    "# Add bar chart for net spend per trophy\n",
    "fig.add_trace(go.Bar(x=df_net_spend[\"Club\"], y=df_net_spend[\"Net spend per trophy (mil. eur)\"], name='Net Spend per Trophy (mil. eur)', marker_color='#FF6B6B'))\n",
    "\n",
    "# Update layout for dual axis\n",
    "fig.update_layout(\n",
    "    title=\"Club's Net Spend, Trophies, and Efficiency (2013 - 2023)\",\n",
    "    xaxis_title=\"Club\",\n",
    "    yaxis_title=\"Net Spend (mil. eur)\",\n",
    "    yaxis2=dict(title='Trophies', overlaying='y', side='right'),\n",
    "    barmode='group',\n",
    ")\n",
    "\n",
    "fig.show()"
   ]
  }
 ],
 "metadata": {
  "kernelspec": {
   "display_name": "Python 3",
   "language": "python",
   "name": "python3"
  },
  "language_info": {
   "codemirror_mode": {
    "name": "ipython",
    "version": 3
   },
   "file_extension": ".py",
   "mimetype": "text/x-python",
   "name": "python",
   "nbconvert_exporter": "python",
   "pygments_lexer": "ipython3",
   "version": "3.8.8"
  },
  "orig_nbformat": 4,
  "vscode": {
   "interpreter": {
    "hash": "aee8b7b246df8f9039afb4144a1f6fd8d2ca17a180786b69acc140d282b71a49"
   }
  }
 },
 "nbformat": 4,
 "nbformat_minor": 2
}
